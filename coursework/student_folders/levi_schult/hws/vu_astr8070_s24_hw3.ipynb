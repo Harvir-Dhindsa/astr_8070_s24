{
 "cells": [
  {
   "cell_type": "markdown",
   "metadata": {},
   "source": [
    "### ASTR 8070: Astrostatistics\n",
    "***S. R. Taylor***\n",
    "___\n",
    "\n",
    "# Homework 3\n",
    "### Due: Saturday, Feb 10th at 11.59pm CST\n",
    "---"
   ]
  },
  {
   "cell_type": "markdown",
   "metadata": {},
   "source": [
    "## Only one problem this week\n",
    "\n",
    "This problem uses a dataset in `/coursework/homeworks/hw_data/`.\n",
    "\n",
    "1) Read in `hw3_data_1.npy`. This is a (50 x 2) numpy array, with measurements in the first column and uncertainties in the second column. Using the analytic results for heteroscedastic Gaussian data from lectures, compute the sample mean and the standard error on the sample mean from for this data.\n",
    "\n",
    "2) Reusing some approaches and tools from `Lecture_6`, write a ln-likelihood function for heteroscedastic Gaussian data, and use it in a fitting algorithm to find the best-fit mean. *Remember that scipy optimizers are set up to minimize functions.*\n",
    "\n",
    "3) Using the same numerical technique from `Lecture_5`, compute the Fisher uncertainty estimate on the mean.\n",
    "\n",
    "4) Using the bootstrap method, generate $1000$ bootstrap realizations of this dataset. *DO NOT use the `astroML` code. Write your own bootstrap function from scratch. Also recall that when resampling data, measurements and uncertainties should stay paired together.*\n",
    "\n",
    "5) Repeat (2) with all $1000$ boostrap datasets to find the distribution of the sample mean. Plot a normalized histogram of these bootstrap means, and overplot a Gaussian pdf with the mean and std found in (1). Do these agree?\n",
    "\n",
    "6) While we have fitted a heteroscedastic Gaussian to this data, let's try something else. Write some code to define a ln-likelihood for a Laplace distribution evaluated on this data. Fit simultaneously for the Laplace location parameter $\\mu$ and scale parameter $\\Delta$.\n",
    "\n",
    "7) Compute the AIC values for the heteroscedastic Gaussian model and the Laplacian model. Which model is favored by the data?\n",
    "\n",
    "8) Using the $1000$ bootstrap datasets from before, fit for the Laplacian $\\mu$ and $\\Delta$ for each. Make a nice `corner` plot of the distributions of $\\mu$ and $\\Delta$ that shows both the marginal $1$D distributions and the joint $2$D distribution. Make sure the plot has labels, shows the titles on each $1$D marginal panel, and has $68\\%$ and $95\\%$ levels.\n",
    "\n",
    "9) Let's finish with a Fisher uncertainty estimate of the Laplacian parameters. Use the following code to install `numdifftools` which provides a simple way to compute derivatives. We can then compute the Hessian matrix, which is the matrix of the second derivatives of the user's function. This should be computed at the best-fit Laplacian parameters $\\mu$ and $\\Delta$. To finish, invert the matrix, and then take the square root. The diagonal entries will then be the Fisher uncertainties on $\\mu$ and $\\Delta$. How does these compare to the bootstrap distribution widths found in (8)?"
   ]
  },
  {
   "cell_type": "code",
   "execution_count": 1,
   "metadata": {},
   "outputs": [
    {
     "name": "stdout",
     "output_type": "stream",
     "text": [
      "Collecting numdifftools\n",
      "  Downloading numdifftools-0.9.41-py2.py3-none-any.whl (100 kB)\n",
      "\u001b[2K     \u001b[90m━━━━━━━━━━━━━━━━━━━━━━━━━━━━━━━━━━━━━━━\u001b[0m \u001b[32m100.2/100.2 kB\u001b[0m \u001b[31m1.4 MB/s\u001b[0m eta \u001b[36m0:00:00\u001b[0ma \u001b[36m0:00:01\u001b[0m\n",
      "\u001b[?25hRequirement already satisfied: numpy>=1.9 in /Users/levischult/miniconda3/envs/astr8070/lib/python3.10/site-packages (from numdifftools) (1.26.3)\n",
      "Requirement already satisfied: scipy>=0.8 in /Users/levischult/miniconda3/envs/astr8070/lib/python3.10/site-packages (from numdifftools) (1.11.4)\n",
      "Installing collected packages: numdifftools\n",
      "Successfully installed numdifftools-0.9.41\n"
     ]
    }
   ],
   "source": [
    "!pip install numdifftools"
   ]
  },
  {
   "cell_type": "code",
   "execution_count": 189,
   "metadata": {},
   "outputs": [],
   "source": [
    "import numdifftools as nd\n",
    "import numpy as np \n",
    "import scipy\n",
    "import matplotlib.pyplot as plt\n",
    "from scipy import optimize\n",
    "from matplotlib.offsetbox import AnchoredOffsetbox, TextArea, HPacker, VPacker\n"
   ]
  },
  {
   "cell_type": "code",
   "execution_count": null,
   "metadata": {},
   "outputs": [],
   "source": [
    "# For later:\n",
    "# H = nd.Hessian(f_lnlaplace)([beta_laplace[0], beta_laplace[1]])\n",
    "# sigma_laplace = np.linalg.inv(H)**0.5"
   ]
  },
  {
   "cell_type": "markdown",
   "metadata": {},
   "source": [
    "### Solution"
   ]
  },
  {
   "cell_type": "markdown",
   "metadata": {},
   "source": [
    "# 1"
   ]
  },
  {
   "cell_type": "code",
   "execution_count": 127,
   "metadata": {},
   "outputs": [],
   "source": [
    "data = np.load('../../../homeworks/hw_data/hw3_data_1.npy')"
   ]
  },
  {
   "cell_type": "markdown",
   "metadata": {},
   "source": [
    "$$\\hat \\mu = \\frac{\\sum_i^N (x_i/\\sigma_i^2)}{\\sum_i^N (1/\\sigma_i^2)},$$\n",
    "\n",
    "with uncertainty\n",
    "$$\\sigma_{\\mu} = \\left( \\sum_{i=1}^N \\frac{1}{\\sigma_i^2}\\right)^{-1/2}.$$\n"
   ]
  },
  {
   "cell_type": "code",
   "execution_count": 16,
   "metadata": {},
   "outputs": [],
   "source": [
    "def het_mean_sigma_analytic(data):\n",
    "    '''\n",
    "    A function to analytically calculate the mean and uncert on mean for \n",
    "    a heteroscedastic dataset\n",
    "\n",
    "    inputs:\n",
    "    data (ndarray): N measurements x 2 array where [:, 1] are the uncertainties\n",
    "\n",
    "    returns:\n",
    "    mean (float): mean analytically calculated for heteroscedastic data\n",
    "    sigmu (float): uncertainty on the mean analytically calc.\n",
    "    '''\n",
    "    numerator = np.sum(data[:, 0] / data[:, 1]**2) # LSS sum of measurement over\n",
    "    # the square of the respective uncertainties\n",
    "    denom = np.sum(data[:, 1]**-2) # LSS sum of the inverse square of the uncert.\n",
    "\n",
    "    mean = numerator / denom\n",
    "\n",
    "    sigmu = denom**-0.5 # LSS uncert on mean is denominator to the -0.5\n",
    "    return mean, sigmu"
   ]
  },
  {
   "cell_type": "code",
   "execution_count": 17,
   "metadata": {},
   "outputs": [],
   "source": [
    "datamean_an, datasigmu_an = het_mean_sigma_analytic(data)"
   ]
  },
  {
   "cell_type": "code",
   "execution_count": 21,
   "metadata": {},
   "outputs": [
    {
     "name": "stdout",
     "output_type": "stream",
     "text": [
      "analytically calculated mu=3.92, sigma_mu=0.09\n"
     ]
    }
   ],
   "source": [
    "print(f'analytically calculated mu={datamean_an:.2f}, sigma_mu={datasigmu_an:.2f}')"
   ]
  },
  {
   "cell_type": "markdown",
   "metadata": {},
   "source": [
    "# 2"
   ]
  },
  {
   "cell_type": "code",
   "execution_count": 95,
   "metadata": {},
   "outputs": [],
   "source": [
    "def chisq(mu_model, sigma_model, data, uncert, plot=False):\n",
    "    '''\n",
    "    A function to return the chi squared for data when modeled by a \n",
    "    gaussian with mu=mu_model, sigma=sigma_model. \n",
    "\n",
    "    inputs:\n",
    "    mu_model (float): mean for the gaussian model\n",
    "    sigma_model (float): sigma for the gaussian model\n",
    "    data (ndarray): the data to be fit to \n",
    "    uncert (ndarray): the uncert for each data point\n",
    "    outputs:\n",
    "    chisq (float): negative log likelihood for some mu_model and sigma_model\n",
    "    '''\n",
    "    # LSS defining gaussian from inputs\n",
    "    gaussmodel = scipy.stats.norm(mu_model, sigma_model)\n",
    "    # LSS calculating likelihood\n",
    "    chisq = 0.5 * np.sum((data - gaussmodel.rvs(data.shape[0]))**2 / uncert**2, -1)\n",
    "\n",
    "    # LSS scratch work below\n",
    "    # xgrid = np.linspace(np.min(data)-5*sigma_model, np.max(data)+5*sigma_model, 1000)\n",
    "    # neglnlik = -0.5 * np.sum((data - gaussmodel.pdf())**2 / uncert**2)\n",
    "\n",
    "    # LSS plotting for visualization purposes\n",
    "    if plot:\n",
    "        xgrid = np.linspace(np.min(data)-5*sigma_model,np.max(data)+5*sigma_model,1000) # Array to sample the space \n",
    "        distG = scipy.stats.norm(mu_model, sigma_model) # Complete\n",
    "        plt.plot(xgrid, distG.pdf(xgrid)) # Complete\n",
    "\n",
    "        plt.errorbar(data, 0*data, xerr=uncert, marker='|')\n",
    "        plt.hist(data, density=True, histtype='step')\n",
    "        plt.xlabel('x')\n",
    "        plt.ylabel('pdf')\n",
    "    return chisq"
   ]
  },
  {
   "cell_type": "code",
   "execution_count": 98,
   "metadata": {},
   "outputs": [
    {
     "data": {
      "text/plain": [
       "899.0349903520153"
      ]
     },
     "execution_count": 98,
     "metadata": {},
     "output_type": "execute_result"
    },
    {
     "data": {
      "image/png": "[encoded data removed]",
      "text/plain": [
       "<Figure size 640x480 with 1 Axes>"
      ]
     },
     "metadata": {},
     "output_type": "display_data"
    }
   ],
   "source": [
    "chisq(0, .1, data[:, 0], data[:, 1], plot=True)"
   ]
  },
  {
   "cell_type": "code",
   "execution_count": 171,
   "metadata": {},
   "outputs": [
    {
     "name": "stderr",
     "output_type": "stream",
     "text": [
      "/var/folders/1y/5f87nyls7mnbqvgd2zgz0lmc0000gr/T/ipykernel_16955/3422548514.py:4: RuntimeWarning: Maximum number of function evaluations has been exceeded.\n",
      "  bestfitmodel = optimize.fmin(chisq_heterodata, modelguess0)\n"
     ]
    }
   ],
   "source": [
    "chisq_heterodata = lambda modelguess: chisq(modelguess[0], modelguess[1], \n",
    "                                                  data=data[:, 0], uncert=data[:, 1])\n",
    "modelguess0 = [100, 1]\n",
    "bestfitmodel = optimize.fmin(chisq_heterodata, modelguess0)"
   ]
  },
  {
   "cell_type": "code",
   "execution_count": 172,
   "metadata": {},
   "outputs": [
    {
     "data": {
      "text/plain": [
       "array([3.90699242, 1.10606247])"
      ]
     },
     "execution_count": 172,
     "metadata": {},
     "output_type": "execute_result"
    }
   ],
   "source": [
    "bestfitmodel"
   ]
  },
  {
   "cell_type": "code",
   "execution_count": 173,
   "metadata": {},
   "outputs": [
    {
     "name": "stdout",
     "output_type": "stream",
     "text": [
      "chi squared minimization best fit mean=3.91, sigma=1.11\n"
     ]
    }
   ],
   "source": [
    "print(f'chi squared minimization best fit mean={bestfitmodel[0]:.2f}, sigma={bestfitmodel[1]:.2f}')"
   ]
  },
  {
   "cell_type": "code",
   "execution_count": 174,
   "metadata": {},
   "outputs": [
    {
     "data": {
      "image/png": "[encoded data removed]",
      "text/plain": [
       "<Figure size 640x480 with 1 Axes>"
      ]
     },
     "metadata": {},
     "output_type": "display_data"
    }
   ],
   "source": [
    "chisq(bestfitmodel[0], bestfitmodel[1], data[:,0], data[:,1], plot=True);"
   ]
  },
  {
   "cell_type": "markdown",
   "metadata": {},
   "source": [
    "# NEED TO FIX BIASING IN FIT ^"
   ]
  },
  {
   "cell_type": "markdown",
   "metadata": {},
   "source": [
    "# 3"
   ]
  },
  {
   "cell_type": "markdown",
   "metadata": {},
   "source": []
  },
  {
   "cell_type": "markdown",
   "metadata": {},
   "source": [
    "# 4"
   ]
  },
  {
   "cell_type": "code",
   "execution_count": 151,
   "metadata": {},
   "outputs": [],
   "source": [
    "def bootstrapdata(data, uncert, n=1000):\n",
    "    ''' \n",
    "    A function to create n bootstrapped versions of an input dataset.\n",
    "    NOTE: data and uncert must be of the same length.\n",
    "\n",
    "    inputs:\n",
    "    data (ndarray): data points - should be 1D array\n",
    "    uncert (ndarray): uncert on the datapoints. \n",
    "    n (int): number of datasets to generate. default is 100\n",
    "\n",
    "    returns\n",
    "    bootstrap_datasets (ndarray): shape is (n, data.shape[0], 2) for \n",
    "    data realization x data points x data and uncert\n",
    "    '''\n",
    "    # LSS error handling\n",
    "    if data.shape[0] != uncert.shape[0]:\n",
    "        print('DATA and UNCERT must have the same length!')\n",
    "        return\n",
    "    \n",
    "    # LSS getting length of data for bootstrapping\n",
    "    datalen = data.shape[0]\n",
    "    bootstrap_datasets = np.zeros(shape=(n, datalen, 2))\n",
    "\n",
    "    # LSS iterating over number of datasets requested\n",
    "    for iter in range(n):\n",
    "        # LSS getting random indices to sample points out of the dataset\n",
    "        sample_idx = np.random.randint(low=0, high=datalen, size=datalen)\n",
    "        \n",
    "        # LSS assigning datasets to be random draws from the data and uncert.\n",
    "        bootstrap_datasets[iter, :, 0] = data[sample_idx]\n",
    "        bootstrap_datasets[iter, :, 1] = uncert[sample_idx]\n",
    "    \n",
    "    return bootstrap_datasets\n",
    "\n",
    "\n"
   ]
  },
  {
   "cell_type": "markdown",
   "metadata": {},
   "source": [
    "# 5"
   ]
  },
  {
   "cell_type": "code",
   "execution_count": 154,
   "metadata": {},
   "outputs": [],
   "source": [
    "bts_data = bootstrapdata(data=data[:,0], uncert=data[:, 1])"
   ]
  },
  {
   "cell_type": "code",
   "execution_count": null,
   "metadata": {},
   "outputs": [],
   "source": [
    "# aside: how would i make this to just take in functions in general as well as\n",
    "# an arbitrary number of guesses\n",
    "\n",
    "# def bts_optimizer(bootstraps, fn):\n",
    "#     ''' \n",
    "#     a function to optimize model parameters across various bootstrapped datasets\n",
    "#     fn is the function that is calculating the chisq or the -ln Likelihood. \n",
    "#     Regardless, it must be something that returns LOWER values for models that \n",
    "#     better fit the data\n",
    "\n",
    "#     inputs:\n",
    "#     bootstraps (ndarray): #realizations x datalength x (data, uncert)\n",
    "#     fn (function): function must take in data=data[:, 0] and uncert=data[:, 1]\n",
    "#     '''\n",
    "#     for iter in range(bootstraps.shape[0])\n",
    "#     neglnlik_heterodata = lambda modelguess: chisq(modelguess[0], modelguess[1], \n",
    "#                                                   data=data[:, 0], uncert=data[:, 1])\n",
    "#     modelguess0 = [2, 1]\n",
    "#     bestfitmodel = optimize.fmin(neglnlik_heterodata, modelguess0)\n",
    "    "
   ]
  },
  {
   "cell_type": "code",
   "execution_count": 175,
   "metadata": {},
   "outputs": [],
   "source": [
    "def bts_optimizer(bootstraps, fn_name='hetgauss'):\n",
    "    ''' \n",
    "    a function to optimize model parameters across various bootstrapped datasets\n",
    "    fn_name is the name of the model you are using to fit the data.\n",
    "    Options are:\n",
    "    'hetgauss' for heteroscedastic gaussian \n",
    "    'Laplacian' IN DEV\n",
    "\n",
    "    inputs:\n",
    "    bootstraps (ndarray): #realizations x datalength x (data, uncert)\n",
    "    fn_name (str): default is 'hetgauss'\n",
    "    '''\n",
    "    # LSS handling hetgauss modeling\n",
    "    if fn_name=='hetgauss':\n",
    "        realzns = bootstraps.shape[0]\n",
    "        bootstrap_mu_sigma = np.zeros(shape=(realzns, 2))\n",
    "        # LSS iterate over realizations\n",
    "        for iter in range(realzns):\n",
    "            # LSS create lambda function that calls the right dataset\n",
    "            chisq_heterodata = lambda modelguess: chisq(modelguess[0], \n",
    "                                                           modelguess[1], \n",
    "                                                        data=bootstraps[iter, :, 0], \n",
    "                                                        uncert=bootstraps[iter, :, 1])\n",
    "            modelguess0 = [100, 1]\n",
    "            # LSS optimize\n",
    "            bestfitmodel = optimize.fmin(chisq_heterodata, modelguess0)\n",
    "            # LSS save min chisq values\n",
    "            bootstrap_mu_sigma[iter, :] = bestfitmodel\n",
    "\n",
    "        bootstrap_params = bootstrap_mu_sigma\n",
    "    \n",
    "    return bootstrap_params    "
   ]
  },
  {
   "cell_type": "code",
   "execution_count": 176,
   "metadata": {},
   "outputs": [
    {
     "name": "stderr",
     "output_type": "stream",
     "text": [
      "/var/folders/1y/5f87nyls7mnbqvgd2zgz0lmc0000gr/T/ipykernel_16955/872651724.py:26: RuntimeWarning: Maximum number of function evaluations has been exceeded.\n",
      "  bestfitmodel = optimize.fmin(chisq_heterodata, modelguess0)\n"
     ]
    }
   ],
   "source": [
    "# getting bootstrapped means and sigmas\n",
    "bootstrap_musig = bts_optimizer(bts_data, fn_name='hetgauss')"
   ]
  },
  {
   "cell_type": "code",
   "execution_count": 194,
   "metadata": {},
   "outputs": [],
   "source": [
    "# LSS fancy plotting from https://stackoverflow.com/questions/33159134/matplotlib-y-axis-label-with-multiple-colors\n",
    "\n",
    "def multicolor_ylabel(ax,list_of_strings,list_of_colors,axis='x',anchorpad=0,**kw):\n",
    "    \"\"\"this function creates axes labels with multiple colors\n",
    "    ax specifies the axes object where the labels should be drawn\n",
    "    list_of_strings is a list of all of the text items\n",
    "    list_if_colors is a corresponding list of colors for the strings\n",
    "    axis='x', 'y', or 'both' and specifies which label(s) should be drawn\"\"\"\n",
    "    from matplotlib.offsetbox import AnchoredOffsetbox, TextArea, HPacker, VPacker\n",
    "\n",
    "    # x-axis label\n",
    "    if axis=='x' or axis=='both':\n",
    "        boxes = [TextArea(text, textprops=dict(color=color, ha='left',va='bottom',**kw)) \n",
    "                    for text,color in zip(list_of_strings,list_of_colors) ]\n",
    "        xbox = HPacker(children=boxes,align=\"center\",pad=0, sep=5)\n",
    "        anchored_xbox = AnchoredOffsetbox(loc=3, child=xbox, pad=anchorpad,frameon=False,bbox_to_anchor=(0.2, -0.09),\n",
    "                                          bbox_transform=ax.transAxes, borderpad=0.)\n",
    "        ax.add_artist(anchored_xbox)\n",
    "\n",
    "    # y-axis label\n",
    "    if axis=='y' or axis=='both':\n",
    "        boxes = [TextArea(text, textprops=dict(color=color, ha='left',va='bottom',rotation=90,**kw)) \n",
    "                     for text,color in zip(list_of_strings[::-1],list_of_colors) ]\n",
    "        ybox = VPacker(children=boxes,align=\"center\", pad=0, sep=5)\n",
    "        anchored_ybox = AnchoredOffsetbox(loc=3, child=ybox, pad=anchorpad, frameon=False, bbox_to_anchor=(-0.10, 0.2), \n",
    "                                          bbox_transform=ax.transAxes, borderpad=0.)\n",
    "        ax.add_artist(anchored_ybox)"
   ]
  },
  {
   "cell_type": "code",
   "execution_count": 196,
   "metadata": {},
   "outputs": [
    {
     "data": {
      "image/png": "[encoded data removed]",
      "text/plain": [
       "<Figure size 640x480 with 1 Axes>"
      ]
     },
     "metadata": {},
     "output_type": "display_data"
    }
   ],
   "source": [
    "# LSS nice comparison plot\n",
    "xgrid = np.linspace(0, 8, 1000)\n",
    "ax = plt.subplot(111)\n",
    "ax.hist(bootstrap_musig[:, 0], density=True, histtype='step', label='bootstrap means')\n",
    "ax.plot(xgrid, scipy.stats.norm(datamean_an, datasigmu_an).pdf(xgrid), label='analytic mean')\n",
    "ax.legend()\n",
    "ax.set_xlabel('x')\n",
    "multicolor_ylabel(ax, ('PDF', '|', 'Counts'), ('C0', 'k', 'C1'), axis='y')\n",
    "\n",
    "\n",
    "#plt.ylabel('PDF', color='C1')\n"
   ]
  },
  {
   "cell_type": "markdown",
   "metadata": {},
   "source": [
    "# 6"
   ]
  },
  {
   "cell_type": "markdown",
   "metadata": {},
   "source": []
  },
  {
   "cell_type": "markdown",
   "metadata": {},
   "source": [
    "# 7"
   ]
  },
  {
   "cell_type": "code",
   "execution_count": 197,
   "metadata": {},
   "outputs": [],
   "source": [
    "def calcAIC(maxlnlik, numparams, numdatapts):\n",
    "    ''' \n",
    "    A function to calculate the Akaike Information Criterion to evaluate models\n",
    "    against each other. The lower the AIC is, the better the model fits + simpler\n",
    "    it is.\n",
    "    \n",
    "    inputs:\n",
    "    maxlnlik (float): max lnlikelihood from optimal model params\n",
    "    numparams (int): number of params in the model\n",
    "    numdatapts (int): number of data points in the dataset the model is fitting.\n",
    "\n",
    "    outputs:\n",
    "    aic (float): the aic for given lnlik and numparams\n",
    "    '''\n",
    "    aic = (-2*maxlnlik + 2*numparams + \n",
    "           (2*numparams*(numparams+1)) / (numdatapts - numparams - 1))\n",
    "    return aic"
   ]
  },
  {
   "cell_type": "code",
   "execution_count": null,
   "metadata": {},
   "outputs": [],
   "source": [
    "aic_hetgauss = calcAIC(something, bestfitmodel.shape[0], data.shape[0])"
   ]
  }
 ],
 "metadata": {
  "anaconda-cloud": {},
  "kernelspec": {
   "display_name": "Python 3",
   "language": "python",
   "name": "python3"
  },
  "language_info": {
   "codemirror_mode": {
    "name": "ipython",
    "version": 3
   },
   "file_extension": ".py",
   "mimetype": "text/x-python",
   "name": "python",
   "nbconvert_exporter": "python",
   "pygments_lexer": "ipython3",
   "version": "3.10.13"
  }
 },
 "nbformat": 4,
 "nbformat_minor": 2
}
