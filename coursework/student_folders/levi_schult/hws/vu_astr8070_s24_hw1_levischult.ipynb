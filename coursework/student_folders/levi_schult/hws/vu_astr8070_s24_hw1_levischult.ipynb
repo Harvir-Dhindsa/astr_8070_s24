{
 "cells": [
  {
   "cell_type": "markdown",
   "metadata": {},
   "source": [
    "### ASTR 8070: Astrostatistics\n",
    "***S. R. Taylor***\n",
    "___\n",
    "\n",
    "# Homework 1\n",
    "### Due: By class time on Jan 16th\n",
    "---"
   ]
  },
  {
   "cell_type": "markdown",
   "metadata": {},
   "source": [
    "## Problem 1\n",
    "\n",
    "Practice your git and GitHub skills by submitting this homework via GitHub.  You can skip Steps 1-4 if you have already completed the in-class work of Lecture 1.  Steps 5-11 are the new steps.  \n",
    "\n",
    "1) Navigate to https://github.com/VanderbiltAstronomy/astr_8070_s24 on your browser. **Don't clone this!** Instead, look to the rop right of the page for an option to fork the repository. Do this now. This will make a copy of the class repository for your own personal use.\n",
    "\n",
    "2) Now that you have a fork of the repository, clone it to your machine.\n",
    "\n",
    "    $ git clone https://github.com/YOUR_USERNAME/astr_8070_s24\n",
    "\n",
    "3) Add the original `VanderbiltAstronomy` repository as an `upstream` repository to your fork. First, list the current configured remote repository for your fork with:\n",
    "\n",
    "    $ git remote -v\n",
    "    \n",
    "Now, add the `VanderbiltAstronomy` repo as an upstream:\n",
    "\n",
    "    $ git remote add upstream https://github.com/VanderbiltAstronomy/astr_8070_s24\n",
    "    \n",
    "Verify that the new repository shows as an `upstream` by running `git remote -v` again.\n",
    "\n",
    "4) Get used to syncing upstream content to your fork with:\n",
    "\n",
    "    $ git fetch upstream\n",
    "    \n",
    "    $ git checkout main\n",
    "    \n",
    "    $ git merge upstream/main\n",
    "\n",
    "5) Now, navigate to `coursework/student_folders` folder. Make a folder in here labeled by your name in all lowercase(i.e. `firstname_lastname`).\n",
    "\n",
    "6) Copy your completed lecture notebooks (with all exercises in red finished) to your folder, adding your name to the file (e.g. `Lecture_1b_FirstnameLastname.ipynb`). This is what you will do for each week's lecture notebooks to get participation credit. Your lecture notebooks should have already been copies of my base lecture notebooks. **Never** run my base notebooks; always make a personal copy for yourself.\n",
    "\n",
    "7) Copy the **Homework 1** notebook (this file) to your folder, adding your name (e.g. `vu_astr8070_s24_hw1_FirstnameLastname.ipynb`) \n",
    "\n",
    "8) Complete the other problems listed below.\n",
    "\n",
    "9) Submit your homework as follows (making sure that your added files are contained within your student folder):\n",
    "\n",
    "    $ git add vu_astr8070_s24_hw1_FirstnameLastname.ipynb\n",
    "    \n",
    "    $ git commit -m \"Uploaded Homework 1\"\n",
    "    \n",
    "    $ git push\n",
    "   \n",
    "10) Similarly add, commit, and push your completed lecture notebooks. \n",
    "\n",
    "11) On your browser, navigate on GitHub to your fork of the course repository. You should see an option to initiate a `pull request` to merge your changes into the `main` repository. Your homework and lecture notebooks for the week are submitted when you initiate this pull request."
   ]
  },
  {
   "cell_type": "markdown",
   "metadata": {},
   "source": [
    "## Problem 2\n",
    "\n"
   ]
  },
  {
   "cell_type": "markdown",
   "metadata": {},
   "source": [
    "Consider a family with two children. Assume that the probability of females and males being born is equal, i.e. $p(F)=0.5$ and $p(M)=0.5$. Remember that \"given\" means your calculation is conditioned on some already fixed data or outcome. \n",
    "\n",
    "1) What is the probability of one male and one female **GIVEN** that the first child is male. \n",
    "\n",
    "2) What is the probability of two females **GIVEN** that at least one child is female.\n",
    "\n",
    "3) What is the probability of two females **GIVEN** that the older child is female.\n",
    "\n",
    "You will find it easiest to answer these questions by sketching a \"tree diagram\" to visualize the options for the oldest child, and the branching options for the youngest child. \n",
    "\n",
    "Either write your solution as Markdown/Latex below, or paste in a scanned image of your handwritten solution."
   ]
  },
  {
   "cell_type": "markdown",
   "metadata": {},
   "source": [
    "### Solution"
   ]
  },
  {
   "cell_type": "markdown",
   "metadata": {},
   "source": [
    "1) *(To get you started)* If the first child is male, then the only unknown is the sex of the second child. We want the second child to be female, which has a probability of 0.5. Thus, $p(F,M |C_1=M) = 0.5$. \n",
    "\n",
    "This can\n",
    "\n",
    "2) This is similar to the first question just worded differently. If at least one of the children is F, then one can have this be the first child to satisfy the condition, since the condition specified does not include anything about the order of the children. Thus, $p(F, F | F) = 0.5$ as the probability for p(F, F) is entirely dependent on the 2nd child. If one is seriously concerned about my assertion that the first child is F for simplicity, drawing the tree diagram illuminates that with the condition of at least 1 F, then there are only two outcomes possible MF or FF, each with a conditional probability of 0.5\n",
    "\n",
    "<span style=\"color:red\">SRT: Almost, but not quite. How many ways are of having at least one child being female? You can have MF, FM, or FF. Of those 3 options, there is one way of having two females. So the prob is 1/3. -3 points.</span>\n",
    "\n",
    "\n",
    "3) I partially answered this in the previous question, but for the condition of a F older child, then the probability of two F will come down to the birth of the second child. The probabilities are independent, so the probability will again be 0.5.\n",
    "\n",
    "<span style=\"color:red\">SRT: Good.</span>"
   ]
  },
  {
   "cell_type": "markdown",
   "metadata": {},
   "source": [
    "## Problem 3\n",
    "\n",
    "1) Use `numpy` to draw $1000$ random samples from a uniform distribution between $0.1$ and $10$, and store these samples as $x$.\n",
    "\n",
    "2) Use matplotlib to make a histogram of these samples. Try to make this as aesthetically pleasing as possible (within reason).\n",
    "\n",
    "3) Compute the base-10 log of your array $x$, and store this as $y$.\n",
    "\n",
    "4) Make another histogram for $y$. Using the equation to transform probability distributions in `Lecture_2`, write here what the theoretical pdf of $y$ is, and overplot it onto your histogram.\n",
    "\n",
    "5) Compute the mean of $x$ and the mean of $y$. Now compute the median of $x$ and the median of $y$. You should note that the means are different, but the medians (as it is a cumulative statistic) are the same. The mean is affected by the scale of the sample values, but the median only depends on the ordering of the samples. Monotonic transformations (like taking the log) do not change the ordering of samples."
   ]
  },
  {
   "cell_type": "markdown",
   "metadata": {},
   "source": [
    "### Solution"
   ]
  },
  {
   "cell_type": "code",
   "execution_count": 1,
   "metadata": {},
   "outputs": [],
   "source": [
    "import numpy as np\n",
    "import matplotlib.pyplot as plt"
   ]
  },
  {
   "cell_type": "markdown",
   "metadata": {},
   "source": [
    "### 1"
   ]
  },
  {
   "cell_type": "code",
   "execution_count": 2,
   "metadata": {},
   "outputs": [],
   "source": [
    "xdraws = np.random.uniform(0.1, 10, size=1000)"
   ]
  },
  {
   "cell_type": "markdown",
   "metadata": {},
   "source": [
    "### 2"
   ]
  },
  {
   "cell_type": "code",
   "execution_count": 3,
   "metadata": {},
   "outputs": [
    {
     "data": {
      "text/plain": [
       "Text(0.5, 1.0, 'uniform dist: 0.1-10')"
      ]
     },
     "execution_count": 3,
     "metadata": {},
     "output_type": "execute_result"
    },
    {
     "data": {
      "image/png": "[encoded data removed]",
      "text/plain": [
       "<Figure size 640x480 with 1 Axes>"
      ]
     },
     "metadata": {},
     "output_type": "display_data"
    }
   ],
   "source": [
    "plt.hist(x, bins=10, density=True)\n",
    "plt.xlabel('number drawn')\n",
    "plt.ylabel('number of draws')\n",
    "plt.title('uniform dist: 0.1-10')"
   ]
  },
  {
   "cell_type": "markdown",
   "metadata": {},
   "source": [
    "### 3"
   ]
  },
  {
   "cell_type": "code",
   "execution_count": 4,
   "metadata": {},
   "outputs": [],
   "source": [
    "y = np.log10(x)"
   ]
  },
  {
   "cell_type": "markdown",
   "metadata": {},
   "source": [
    "### 4"
   ]
  },
  {
   "cell_type": "markdown",
   "metadata": {},
   "source": [
    "$p(y) = |\\frac{dx}{dy}|p(x)$\n",
    "\n",
    "$p(y) = |\\frac{dy}{dx}|^{-1}p(x)$"
   ]
  },
  {
   "cell_type": "code",
   "execution_count": 5,
   "metadata": {},
   "outputs": [
    {
     "data": {
      "image/png": "[encoded data removed]",
      "text/plain": [
       "<Figure size 640x480 with 1 Axes>"
      ]
     },
     "metadata": {},
     "output_type": "display_data"
    }
   ],
   "source": [
    "# trying to reproduce example from lecture - ??\n",
    "# p(y) = |dx/dy|p(x)\n",
    "# y = exp(x)\n",
    "# dy/dx = exp(x)\n",
    "# dx/dy = 1/exp(x) = 1/y\n",
    "# p(x) = 1/10\n",
    "# p(y) = 0.1/y\n",
    "\n",
    "x2draws = np.random.uniform(0, 1, 1000)\n",
    "y2draws = np.exp(x2) \n",
    "plt.hist(y2draws, bins=10, density=True, label='y draws')\n",
    "domain = np.linspace(np.min(y2draws), np.max(y2draws), 1000)\n",
    "py = 1 / domain\n",
    "plt.plot(domain, py, label='p(y) analytic')\n",
    "plt.xlabel('y')\n",
    "plt.legend()\n",
    "plt.show()"
   ]
  },
  {
   "cell_type": "code",
   "execution_count": 12,
   "metadata": {},
   "outputs": [
    {
     "data": {
      "text/plain": [
       "[<matplotlib.lines.Line2D at 0x10fbd3dd0>]"
      ]
     },
     "execution_count": 12,
     "metadata": {},
     "output_type": "execute_result"
    },
    {
     "data": {
      "image/png": "[encoded data removed]",
      "text/plain": [
       "<Figure size 640x480 with 1 Axes>"
      ]
     },
     "metadata": {},
     "output_type": "display_data"
    }
   ],
   "source": [
    "# p(y) = |dx/dy| p(x)\n",
    "# p(x) = 0.1 ## uniform distribution from 0-10 == 1/10\n",
    "# y = log10(x)\n",
    "# dy/dx = 1/xlog(10)\n",
    "# dx/dy = xlog(10)\n",
    "# p(y) = xlog(10)*0.1\n",
    "# p(y) = 10^y log(10) * 0.1\n",
    "\n",
    "\n",
    "\n",
    "ydraws = np.log10(xdraws)\n",
    "plt.hist(ydraws, density=True, label='y draws')\n",
    "\n",
    "domain = np.linspace(-1, 1, 1000)\n",
    "# dy/dx = 1/(x*ln(10))\n",
    "# dx/dy = x*ln(10)\n",
    "\n",
    "#pdfnotnorm = np.abs(domain*np.log(10))*0.1\n",
    "#pdfnorm = pdfnotnorm / np.sum(pdfnotnorm)\n",
    "\n",
    "pdfnotnorm = np.abs(10**domain * np.log(10))/9.9\n",
    "\n",
    "plt.plot(domain, pdfnotnorm)\n",
    "#plt.ylim(top=0.003)"
   ]
  },
  {
   "cell_type": "markdown",
   "metadata": {},
   "source": [
    "<span style=\"color:red\">The errors above (corrected) were as follows. `domain` was in `y` units, and the transformation required `x`, which is `10^y`. Also, your `p(x)` was incorrect, since it was supposed to be a uniform distribution over range 0.1 to 10, i.e., p(x)=1/9.9. -4 points.</span>\n"
   ]
  },
  {
   "cell_type": "markdown",
   "metadata": {},
   "source": [
    "#### 5"
   ]
  },
  {
   "cell_type": "code",
   "execution_count": 7,
   "metadata": {},
   "outputs": [
    {
     "name": "stdout",
     "output_type": "stream",
     "text": [
      "uniform mean 4.940191790812874\n",
      "transform mean 3.6713577305452\n",
      "uniform median 4.906006945407235\n",
      "transform median 4.906005201846846\n"
     ]
    }
   ],
   "source": [
    "print('uniform mean', np.mean(x))\n",
    "print('transform mean', 10**np.mean(y))\n",
    "print('uniform median', np.median(x))\n",
    "print('transform median', 10**np.median(y))"
   ]
  },
  {
   "cell_type": "markdown",
   "metadata": {},
   "source": [
    "<span style=\"color:red\">SRT: Good.</span>"
   ]
  },
  {
   "cell_type": "markdown",
   "metadata": {},
   "source": []
  }
 ],
 "metadata": {
  "anaconda-cloud": {},
  "kernelspec": {
   "display_name": "Python 3",
   "language": "python",
   "name": "python3"
  },
  "language_info": {
   "codemirror_mode": {
    "name": "ipython",
    "version": 3
   },
   "file_extension": ".py",
   "mimetype": "text/x-python",
   "name": "python",
   "nbconvert_exporter": "python",
   "pygments_lexer": "ipython3",
   "version": "3.11.7"
  }
 },
 "nbformat": 4,
 "nbformat_minor": 2
}
