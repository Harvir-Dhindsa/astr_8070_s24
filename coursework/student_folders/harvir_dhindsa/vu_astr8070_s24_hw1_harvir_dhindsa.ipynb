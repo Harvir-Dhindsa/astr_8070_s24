{
 "cells": [
  {
   "cell_type": "markdown",
   "metadata": {},
   "source": [
    "### ASTR 8070: Astrostatistics\n",
    "***S. R. Taylor***\n",
    "___\n",
    "\n",
    "# Homework 1\n",
    "### Due: By class time on Jan 16th\n",
    "---"
   ]
  },
  {
   "cell_type": "markdown",
   "metadata": {},
   "source": [
    "## Problem 1\n",
    "\n",
    "Practice your git and GitHub skills by submitting this homework via GitHub.  You can skip Steps 1-4 if you have already completed the in-class work of Lecture 1.  Steps 5-11 are the new steps.  \n",
    "\n",
    "1) Navigate to https://github.com/VanderbiltAstronomy/astr_8070_s24 on your browser. **Don't clone this!** Instead, look to the rop right of the page for an option to fork the repository. Do this now. This will make a copy of the class repository for your own personal use.\n",
    "\n",
    "2) Now that you have a fork of the repository, clone it to your machine.\n",
    "\n",
    "    $ git clone https://github.com/YOUR_USERNAME/astr_8070_s24\n",
    "\n",
    "3) Add the original `VanderbiltAstronomy` repository as an `upstream` repository to your fork. First, list the current configured remote repository for your fork with:\n",
    "\n",
    "    $ git remote -v\n",
    "    \n",
    "Now, add the `VanderbiltAstronomy` repo as an upstream:\n",
    "\n",
    "    $ git remote add upstream https://github.com/VanderbiltAstronomy/astr_8070_s24\n",
    "    \n",
    "Verify that the new repository shows as an `upstream` by running `git remote -v` again.\n",
    "\n",
    "4) Get used to syncing upstream content to your fork with:\n",
    "\n",
    "    $ git fetch upstream\n",
    "    \n",
    "    $ git checkout main\n",
    "    \n",
    "    $ git merge upstream/main\n",
    "\n",
    "5) Now, navigate to `coursework/student_folders` folder. Make a folder in here labeled by your name in all lowercase(i.e. `firstname_lastname`).\n",
    "\n",
    "6) Copy your completed lecture notebooks (with all exercises in red finished) to your folder, adding your name to the file (e.g. `Lecture_1b_FirstnameLastname.ipynb`). This is what you will do for each week's lecture notebooks to get participation credit. Your lecture notebooks should have already been copies of my base lecture notebooks. **Never** run my base notebooks; always make a personal copy for yourself.\n",
    "\n",
    "7) Copy the **Homework 1** notebook (this file) to your folder, adding your name (e.g. `vu_astr8070_s24_hw1_FirstnameLastname.ipynb`) \n",
    "\n",
    "8) Complete the other problems listed below.\n",
    "\n",
    "9) Submit your homework as follows (making sure that your added files are contained within your student folder):\n",
    "\n",
    "    $ git add vu_astr8070_s24_hw1_FirstnameLastname.ipynb\n",
    "    \n",
    "    $ git commit -m \"Uploaded Homework 1\"\n",
    "    \n",
    "    $ git push\n",
    "   \n",
    "10) Similarly add, commit, and push your completed lecture notebooks. \n",
    "\n",
    "11) On your browser, navigate on GitHub to your fork of the course repository. You should see an option to initiate a `pull request` to merge your changes into the `main` repository. Your homework and lecture notebooks for the week are submitted when you initiate this pull request."
   ]
  },
  {
   "cell_type": "markdown",
   "metadata": {},
   "source": [
    "## Problem 2\n",
    "\n"
   ]
  },
  {
   "cell_type": "markdown",
   "metadata": {},
   "source": [
    "Consider a family with two children. Assume that the probability of females and males being born is equal, i.e. $p(F)=0.5$ and $p(M)=0.5$. Remember that \"given\" means your calculation is conditioned on some already fixed data or outcome. \n",
    "\n",
    "1) What is the probability of one male and one female **GIVEN** that the first child is male. \n",
    "\n",
    "2) What is the probability of two females **GIVEN** that at least one child is female.\n",
    "\n",
    "3) What is the probability of two females **GIVEN** that the older child is female.\n",
    "\n",
    "You will find it easiest to answer these questions by sketching a \"tree diagram\" to visualize the options for the oldest child, and the branching options for the youngest child. \n",
    "\n",
    "Either write your solution as Markdown/Latex below, or paste in a scanned image of your handwritten solution."
   ]
  },
  {
   "cell_type": "markdown",
   "metadata": {},
   "source": [
    "### Solution"
   ]
  },
  {
   "cell_type": "code",
   "execution_count": 35,
   "metadata": {},
   "outputs": [
    {
     "name": "stdout",
     "output_type": "stream",
     "text": [
      "Child 1\n",
      "├── Female\n",
      "│   ├── Child 2 Female*\n",
      "│   └── Child 2 Male *\n",
      "└── Male\n",
      "    ├── Child 2 Female\n",
      "    └── Child 2 Male\n",
      "\n"
     ]
    }
   ],
   "source": [
    "from treelib import Node, Tree # I installed this in our conda env to create tree diagrams\n",
    "\n",
    "tree = Tree()\n",
    "\n",
    "# The asterisks are printed because treelib does not allow repetitions in the nodes for the actual branches on the tree.\n",
    "tree.create_node(\"Child 1\", \"child 1\")  # No parent means its the root node\n",
    "tree.create_node(\"Male\",  \"male\"   , parent=\"child 1\")\n",
    "tree.create_node(\"Female\",  \"female\"   , parent=\"child 1\")\n",
    "tree.create_node(\"Child 2 Male\",  \"male 2\"   , parent=\"male\")\n",
    "tree.create_node(\"Child 2 Female\",  \"female 2\"   , parent=\"male\")\n",
    "tree.create_node(\"Child 2 Male *\",  \"male 2*\"   , parent=\"female\")\n",
    "tree.create_node(\"Child 2 Female*\",  \"female 2*\"   , parent=\"female\")\n",
    "\n",
    "print(tree.show(stdout=False)) # have to print in this way, otherwise output cannot be read in Jupyter Notebook (a bug with treelib - solution seen on Stack Overflow)"
   ]
  },
  {
   "cell_type": "markdown",
   "metadata": {},
   "source": [
    "Note that the asterisks are printed because treelib does not allow repetitions in the nodes for the actual branches on the tree."
   ]
  },
  {
   "cell_type": "markdown",
   "metadata": {},
   "source": [
    "I perform all these calculations explicitly by referring to the above tree, as well as Bayes' formula seen in Lecture 2:\n",
    "\n",
    "$$p(y|x) = \\frac{p(x|y)p(y)}{p(x)} = \\frac{p(x|y)p(y)}{\\int p(x|y)p(y) dy}$$\n",
    "\n",
    "\n",
    "\n",
    "1) p(x|y) = p($C_1$ = M | M,F) = 1 / 2 \\\n",
    "p(y) = p(M,F) = 2 / 4 = 1 / 2 \\\n",
    "p(x) = p($C_1$ = M) = 2 / 4 = 1 / 2 \\\n",
    "p(y|x) = p(M,F | $C_1$ = M) = $\\frac{(1/2)(1/2)}{1/2}$ = 1/2.\n",
    "\n",
    "*(To get you started)* If the first child is male, then the only unknown is the sex of the second child. We want the second child to be female, which has a probability of 0.5. Thus, $p(F,M |C_1=M) = 0.5$. \n",
    "\n",
    "2) p(x|y) = p($C_{1,2}$ = F | F,F) = 1 (C_12 notation means at least one child is female) \\\n",
    "p(y) = p(F,F) = 1 / 4 \\\n",
    "p(x) = p($C_{1,2}$ = F) = 3 / 4 \\\n",
    "p(y|x) = p(F,F | $C_{1,2}$ = F) = $\\frac{(1)(1/4)}{3/4}$ = 1/3.\n",
    "\n",
    "\n",
    "3) p(x|y) = p($C_1$ = F | F,F) = 1 \\\n",
    "p(y) = p(F,F) = 1 / 4 \\\n",
    "p(x) = p($C_1$ = F) = 1 / 2 \\\n",
    "p(y|x) = p(F,F | $C_1$ = F) = $\\frac{(1)(1/4)}{1/2}$ = 1/2."
   ]
  },
  {
   "cell_type": "markdown",
   "metadata": {},
   "source": [
    "## Problem 3\n",
    "\n",
    "1) Use `numpy` to draw $1000$ random samples from a uniform distribution between $0.1$ and $10$, and store these samples as $x$.\n",
    "\n",
    "2) Use matplotlib to make a histogram of these samples. Try to make this as aesthetically pleasing as possible (within reason).\n",
    "\n",
    "3) Compute the base-10 log of your array $x$, and store this as $y$.\n",
    "\n",
    "4) Make another histogram for $y$. Using the equation to transform probability distributions in `Lecture_2`, write here what the theoretical pdf of $y$ is, and overplot it onto your histogram.\n",
    "\n",
    "5) Compute the mean of $x$ and the mean of $y$. Now compute the median of $x$ and the median of $y$. You should note that the means are different, but the medians (as it is a cumulative statistic) are the same. The mean is affected by the scale of the sample values, but the median only depends on the ordering of the samples. Monotonic transformations (like taking the log) do not change the ordering of samples."
   ]
  },
  {
   "cell_type": "markdown",
   "metadata": {},
   "source": [
    "### Solution"
   ]
  },
  {
   "cell_type": "code",
   "execution_count": 45,
   "metadata": {},
   "outputs": [
    {
     "data": {
      "image/png": "[encoded data removed]",
      "text/plain": [
       "<Figure size 640x480 with 1 Axes>"
      ]
     },
     "metadata": {},
     "output_type": "display_data"
    },
    {
     "data": {
      "image/png": "[encoded data removed]",
      "text/plain": [
       "<Figure size 640x480 with 1 Axes>"
      ]
     },
     "metadata": {},
     "output_type": "display_data"
    },
    {
     "name": "stdout",
     "output_type": "stream",
     "text": [
      "The average of x is: 5.142831259481234\n",
      "The average of y is: 0.6021024318827489\n",
      "The median of x is: 5.2074283840808135\n",
      "The median of y is: 0.7166232904213397\n"
     ]
    }
   ],
   "source": [
    "import numpy as np\n",
    "import matplotlib.pyplot as plt\n",
    "\n",
    "x = np.random.uniform(0.1,10,1000) # drawing 1000 samples from a uniform distribution\n",
    "\n",
    "plt.hist(x,density=True) \n",
    "\"\"\"\n",
    "the density boolean ensures that we return probability densities on the \n",
    "dependent axis rather than the raw counts from our sample selection. \n",
    "The density = count/1000 * width of bin, so that the sum (integration) of densities across bins = 1.\n",
    "\"\"\"\n",
    "plt.xlabel(\"x\")\n",
    "plt.ylabel(\"$p_x$(x)\")\n",
    "plt.show()\n",
    "\n",
    "y = np.log10(x)\n",
    "plt.hist(y,density=True)\n",
    "plt.xlabel(\"y\")\n",
    "plt.ylabel(\"$p_y$(y)\")\n",
    "\n",
    "p_x = 1 / 9.9 # (1 / b - a), where b is our maximum of the uniform distribution (10), a the min (0.1)\n",
    "#p_y = np.power(10,y) * np.log(10) * p_x\n",
    "\n",
    "\"\"\" Below, I generate a new array for y based on a linspace() as opposed to the random samples \n",
    " as y is declared above. I do this because, without it, the h(y) I see has many converging curves\n",
    " toward the correct one. I do not know why the original y array yields a weird result, I would \n",
    " like to ask you about this after lecture or in an office hour. The suggestion to avoid plotting\n",
    " the derived pdf p_y against the original y array came from a peer in the class. I am a little bit\n",
    " hesitant about its validity because, it seems to me, the state of the original problem is changed \n",
    " somewhat by not using the randomly sampled original array. \n",
    " The new method does result in the correct pdf (shape wise, which I think is the most important thing)\n",
    " It results in the final converging curve that the original plot had (without the dozens of other curves).\"\"\"\n",
    "\n",
    "y_min = y.min() # ensuring that the boundaries of the original array are kept in the new array\n",
    "y_max = y.max()\n",
    "y_new = np.linspace(y_min,y_max,1000)\n",
    "\n",
    "p_y = np.exp(y_new * np.log(10)) * np.log(10) * p_x # full derivation shown in markdown cell below plots\n",
    "\n",
    "plt.plot(y_new,p_y,label='h(y)')\n",
    "plt.legend()\n",
    "plt.show()\n",
    "\n",
    "print(\"The average of x is:\", np.average(x))\n",
    "print(\"The average of y is:\", np.average(y))\n",
    "print(\"The median of x is:\", np.median(x))\n",
    "print(\"The median of y is:\", np.median(y))\n",
    "\n"
   ]
  },
  {
   "cell_type": "markdown",
   "metadata": {},
   "source": [
    "I note that the means are not simply a transformation via log_10, because the logarithm changes the relative weight of the distribution. However, the medians are related by a simple log_10 because the logarithm preserves the order of the data."
   ]
  },
  {
   "cell_type": "markdown",
   "metadata": {},
   "source": [
    "p(y) = | $\\frac{dx}{dy}$ | p(x) \\\n",
    "     = | $\\frac{dy}{dx}$ |^{-1} p(x) \\\n",
    "     = | $\\frac{d(log_{10}(x))}{dx}$ |^{-1} p(x) \\\n",
    "p(x) = $\\frac{1}{b-a}$ = 1 / (10 - 0.1) = 1 / 9.9 \\\n",
    "p(y) = | $\\frac{d(ln (x) / ln(10)}{dx}$ |^{-1} $\\frac{1}{9.9}$ (change of base formula) \\\n",
    "     = x ln(10) $\\frac{1}{9.9}$ \\\n",
    "     \\\n",
    "p(y) = $10^y$ ln(10) $\\frac{1}{9.9}$"
   ]
  },
  {
   "cell_type": "markdown",
   "metadata": {},
   "source": []
  }
 ],
 "metadata": {
  "anaconda-cloud": {},
  "kernelspec": {
   "display_name": "astr8070",
   "language": "python",
   "name": "python3"
  },
  "language_info": {
   "codemirror_mode": {
    "name": "ipython",
    "version": 3
   },
   "file_extension": ".py",
   "mimetype": "text/x-python",
   "name": "python",
   "nbconvert_exporter": "python",
   "pygments_lexer": "ipython3",
   "version": "3.13.1"
  }
 },
 "nbformat": 4,
 "nbformat_minor": 2
}
