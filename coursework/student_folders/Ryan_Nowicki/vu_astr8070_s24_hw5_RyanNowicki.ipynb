{
 "cells": [
  {
   "cell_type": "markdown",
   "metadata": {},
   "source": [
    "### ASTR 8070: Astrostatistics\n",
    "***S. R. Taylor***\n",
    "___\n",
    "\n",
    "# Homework 5\n",
    "### Due: Saturday, Mar 2nd at 11.59pm CST\n",
    "---"
   ]
  },
  {
   "cell_type": "markdown",
   "metadata": {},
   "source": [
    "## Only one problem this week\n",
    "\n",
    "This problem uses a dataset in `/coursework/homeworks/hw_data/`.\n",
    "\n",
    "1) Read in `hw5_data_1.npy`. This is a (10 x 3) numpy array, containing some time-series measurements. It could be flux measurements from a star or some other transient. The first column is time (arbitrary units), the second column is the flux (arbitrary units), and the third column are homoescedastic measurement uncertainties on the flux. Plot this data with the uncertainties.\n",
    "\n",
    "2) One possible model for this data is a sharp burst with an exponential tail rising above a nominal background level. This model can be described as:\n",
    "\n",
    "$y = b$, for $t<t_0$\n",
    "\n",
    "$y = b + A\\exp[-\\alpha(t-t_0)]$, for $t\\geq t_0$\n",
    "\n",
    "where $b$ is the background amplitude, $A$ is the burst amplitude, $t_0$ is the burst epoch, and $\\alpha$ encodes how rapidly the burst dies off.\n",
    "\n",
    "Code this burst model, and code a likelihood function for this data with the burst model. *Hint: This is similar in spirit to the likelihood when fitting polynomials to data, except now $x$ is time, and the polynomial model is now the burst model.* \n",
    "\n",
    "3) Using one of the MCMC codes that we looked at in class (`emcee`, `pymc3`, `PTMCMCSampler`) perform a Bayesian analysis that recovers an MCMC chain of posterior probability samples for the joint parameter space of $\\{b,A,t_0,\\alpha\\}$. You must decide on how many samples are appropriate for running your MCMC. For your priors, make them $b\\in \\mathrm{Uniform}[0,50]$, $A\\in \\mathrm{Uniform}[0,50]$, $t_0\\in \\mathrm{Uniform}[0,100]$, and $\\ln\\alpha\\in \\mathrm{Uniform}[-5,5]$.\n",
    "\n",
    "4) Perform an appropriate check to burn-in your chain, and thin the chain by selecting only points every auto-correlation length. If you are left with a small number of samples after thinning then you may need to run your MCMC for longer in (3).\n",
    "\n",
    "5) Make a corner plot of the $4$-D parameter space, with labels, $[68,95]\\%$ credible levels and quantiles, and titles.\n",
    "\n",
    "6) Now choose $100$ samples randomly from your burned, thinned chain and plot the $100$ corresponding burst time-series on a figure along with the original data. You may want to choose a transparency for these $100$ burst curves that allows you to see everything nicely. These are showing the posterior spread of model solutions that are consistent with the data.\n",
    "\n",
    "7) Another possible model that may explain the data is a Gaussian profile described by:\n",
    "\n",
    "$y = b + A\\exp[-(t-t_0)^2 / 2\\sigma_W^2]$\n",
    "\n",
    "The priors for this model are the same as above for the equivalent parameters, and with $\\ln\\sigma_W\\in\\mathrm{Uniform}[-2,2]$. Following the examples from `Lecture 12` and from relevant web tutorials/documentation, use one of the nested sampling packages (`dynesty` or `UltraNest`) to compute the Bayesian evidence for this Gaussian model, and for the original burst model. Compute the Bayes factor, and state which model is the favored description of the data. *Hint: Be careful with how you transform your parameter space into a unit hypercube for the nested sampling priors. An appropriate check on whether you have done things correctly is that the posterior samples you get from the burst analysis here should give an equivalent corner plot to the MCMC you did above.*"
   ]
  },
  {
   "cell_type": "markdown",
   "metadata": {},
   "source": [
    "### Solution"
   ]
  },
  {
   "cell_type": "code",
   "execution_count": 2,
   "metadata": {},
   "outputs": [],
   "source": [
    "#importing tools\n",
    "import numpy as np\n",
    "import scipy\n",
    "import matplotlib.pyplot as plt"
   ]
  },
  {
   "cell_type": "markdown",
   "metadata": {},
   "source": [
    "### Part 1"
   ]
  },
  {
   "cell_type": "code",
   "execution_count": 183,
   "metadata": {},
   "outputs": [
    {
     "name": "stdout",
     "output_type": "stream",
     "text": [
      "[[ 0.46954762  8.83485016  1.        ]\n",
      " [ 1.87898004 10.90082649  1.        ]\n",
      " [ 2.01075462 10.46566244  1.        ]\n",
      " [ 2.02183974  8.46375631  1.        ]\n",
      " [ 3.91877923 11.48825219  1.        ]\n",
      " [ 6.02254716 11.89588918  1.        ]\n",
      " [ 6.41474963 11.17877957  1.        ]\n",
      " [ 7.10360582  9.82007516  1.        ]\n",
      " [ 8.71292997  8.92924738  1.        ]\n",
      " [ 9.39405108 11.05445173  1.        ]\n",
      " [ 9.60984079  9.59682305  1.        ]\n",
      " [ 9.71012758 11.22244507  1.        ]\n",
      " [10.20448107 10.20827498  1.        ]\n",
      " [11.03751412 10.97663904  1.        ]\n",
      " [11.82744259 10.3563664   1.        ]\n",
      " [11.8727719  10.70657317  1.        ]\n",
      " [12.01965612 10.01050002  1.        ]\n",
      " [12.89262977 11.78587049  1.        ]\n",
      " [13.17978624 10.12691209  1.        ]\n",
      " [13.81829513 10.40198936  1.        ]\n",
      " [14.33532874 11.8831507   1.        ]\n",
      " [15.89695836  8.65224094  1.        ]\n",
      " [16.13095179  8.729515    1.        ]\n",
      " [18.3191362  10.96939671  1.        ]\n",
      " [19.65823617  8.82687659  1.        ]\n",
      " [20.88767561 11.94362119  1.        ]\n",
      " [21.03825611  9.58638102  1.        ]\n",
      " [24.4425592   9.25254519  1.        ]\n",
      " [25.32916025 11.92294203  1.        ]\n",
      " [26.45556121 11.48051479  1.        ]\n",
      " [26.53894909 11.86755896  1.        ]\n",
      " [28.28069626 10.90604466  1.        ]\n",
      " [28.94060929  9.13877431  1.        ]\n",
      " [29.61401975 11.91006495  1.        ]\n",
      " [31.54283509  9.73199663  1.        ]\n",
      " [31.79831794 10.8024564   1.        ]\n",
      " [31.85689525 10.94725197  1.        ]\n",
      " [35.95079006  9.84498991  1.        ]\n",
      " [36.37107709 10.61407937  1.        ]\n",
      " [36.87251707 10.92220667  1.        ]\n",
      " [38.34415188 10.37642553  1.        ]\n",
      " [41.42629945  8.90059921  1.        ]\n",
      " [41.466194   10.29823817  1.        ]\n",
      " [42.36547993 11.3263859   1.        ]\n",
      " [43.70319538  9.30543214  1.        ]\n",
      " [43.75872113  9.85036546  1.        ]\n",
      " [43.86015135  9.56484645  1.        ]\n",
      " [45.61503322 11.84926373  1.        ]\n",
      " [46.14793623 10.67229476  1.        ]\n",
      " [46.63107729 10.40746184  1.        ]\n",
      " [46.86512016  9.23008393  1.        ]\n",
      " [52.18483218 14.55793403  1.        ]\n",
      " [52.32480535 13.28849322  1.        ]\n",
      " [52.88949198 13.77708185  1.        ]\n",
      " [54.4883183  12.55602115  1.        ]\n",
      " [54.88135039 13.74528322  1.        ]\n",
      " [56.66014542 13.14535102  1.        ]\n",
      " [56.80445611 12.32365769  1.        ]\n",
      " [56.84339489 12.9181232   1.        ]\n",
      " [57.01967704 11.38498415  1.        ]\n",
      " [57.59464956 10.84832599  1.        ]\n",
      " [58.65129348 12.54437717  1.        ]\n",
      " [60.27633761 11.95593712  1.        ]\n",
      " [60.48455197 12.38742519  1.        ]\n",
      " [61.20957227 14.01298288  1.        ]\n",
      " [61.69339969 12.49733879  1.        ]\n",
      " [61.76354971 10.62918189  1.        ]\n",
      " [63.99210213 12.35097529  1.        ]\n",
      " [64.58941131  9.84650415  1.        ]\n",
      " [65.31083255 10.61992155  1.        ]\n",
      " [65.63295895 10.97898152  1.        ]\n",
      " [66.67667154 12.65677637  1.        ]\n",
      " [66.741038   10.19262578  1.        ]\n",
      " [67.06378696 10.08117121  1.        ]\n",
      " [68.18202991 10.71313335  1.        ]\n",
      " [69.24721194 10.06610388  1.        ]\n",
      " [69.76311959 11.81953283  1.        ]\n",
      " [71.51893664  9.50138741  1.        ]\n",
      " [71.63272041  9.42727329  1.        ]\n",
      " [73.92635794 10.01912238  1.        ]\n",
      " [77.42336894  9.82406569  1.        ]\n",
      " [77.81567509 12.23923874  1.        ]\n",
      " [78.05291763 11.25186641  1.        ]\n",
      " [79.17250381 10.35796218  1.        ]\n",
      " [79.91585642  9.02560329  1.        ]\n",
      " [82.09932298 11.0461597   1.        ]\n",
      " [82.89400292  9.18616564  1.        ]\n",
      " [83.26198455  8.63487607  1.        ]\n",
      " [83.79449075 11.35836088  1.        ]\n",
      " [87.00121482 10.44054523  1.        ]\n",
      " [89.17730008 11.02028975  1.        ]\n",
      " [92.55966383 10.38962456  1.        ]\n",
      " [92.92961976 10.92515257  1.        ]\n",
      " [94.37480785  9.40810287  1.        ]\n",
      " [94.4668917   9.02434364  1.        ]\n",
      " [96.36627605 10.73004613  1.        ]\n",
      " [97.6459465   9.23922205  1.        ]\n",
      " [97.67610882  9.35295355  1.        ]\n",
      " [97.86183422  9.58618871  1.        ]\n",
      " [98.83738381 10.05532249  1.        ]]\n"
     ]
    }
   ],
   "source": [
    "#Read in `hw5_data_1.npy`. This is a (10 x 3) numpy array, containing some time-series measurements. \n",
    "#It could be flux measurements from a star or some other transient. The first column is time (arbitrary units), \n",
    "#the second column is the flux (arbitrary units), and the third column are homoescedastic measurement uncertainties on the flux. \n",
    "#Plot this data with the uncertainties.\n",
    "\n",
    "\n",
    "#Reading in the data\n",
    "data = np.load('/home/nowickr/astr_8070_s24/coursework/homeworks/hw_data/hw5_data_1.npy')\n",
    "print(data)"
   ]
  },
  {
   "cell_type": "code",
   "execution_count": 184,
   "metadata": {},
   "outputs": [
    {
     "data": {
      "text/plain": [
       "Text(0.5, 1.0, 'Flux Over Time with Homoscedastic Error')"
      ]
     },
     "execution_count": 184,
     "metadata": {},
     "output_type": "execute_result"
    },
    {
     "data": {
      "image/png": "[encoded data removed]",
      "text/plain": [
       "<Figure size 640x480 with 1 Axes>"
      ]
     },
     "metadata": {},
     "output_type": "display_data"
    }
   ],
   "source": [
    "#plotting data with uncertainties\n",
    "\n",
    "#setting columns as variables\n",
    "t = data[:,0]           #time\n",
    "flux = data[:,1]        #flux\n",
    "sigma_fl = data[:,2]    #flux uncertainty\n",
    "\n",
    "\n",
    "#plotting\n",
    "plt.scatter(t,flux)\n",
    "plt.errorbar(x=t,y=flux,yerr=sigma_fl, fmt='None')\n",
    "plt.title('Flux Over Time with Homoscedastic Error')"
   ]
  },
  {
   "cell_type": "markdown",
   "metadata": {},
   "source": [
    "### Part 2"
   ]
  },
  {
   "cell_type": "markdown",
   "metadata": {},
   "source": [
    "One possible model for this data is a sharp burst with an exponential tail rising above a nominal background level. This model can be described as:\n",
    "\n",
    "$y = b$, for $t<t_0$\n",
    "$y = b + A\\exp[-\\alpha(t-t_0)]$, for $t\\geq t_0$\n",
    "\n",
    "where $b$ is the background amplitude, $A$ is the burst amplitude, $t_0$ is the burst epoch, and $\\alpha$ encodes how rapidly the burst dies off.\n"
   ]
  },
  {
   "cell_type": "code",
   "execution_count": 185,
   "metadata": {},
   "outputs": [],
   "source": [
    "#Code this burst model, and code a likelihood function for this data with the burst model. \n",
    "#*Hint: This is similar in spirit to the likelihood when fitting polynomials to data, except now $x$ is time, and the polynomial model is now the burst model.* \n",
    "\n",
    "#defining model as a function\n",
    "def exp_burst_model(t,t0,b,A,alpha):\n",
    "    if t<t0:\n",
    "        y = b\n",
    "    if t>=t0:\n",
    "        y = b + A*np.exp(-alpha*(t-t0))\n",
    "    return y\n",
    "\n",
    "#defining a likelihood function for some data and a given model\n",
    "def likelihood(data,model):\n",
    "    like = []                       #empty list to insert calculated likelihoods over time\n",
    "    for i in range(len(data)):      #iterating over all time values\n",
    "        L = (1/2)*np.sum((data-i)**2/(sigma**2))           #likelihood calculation\n",
    "        like.append(L)              #append likelihood to list\n",
    "    return like"
   ]
  },
  {
   "cell_type": "code",
   "execution_count": 186,
   "metadata": {},
   "outputs": [],
   "source": [
    "#defining test spaces for variables\n",
    "t0_grid  = np.linspace(0,10,1000)\n",
    "b_grid   = np.linspace(0,10,1000)\n",
    "A_grid   = np.linspace(0,10,1000)\n",
    "alp_grid = np.linspace(0,10,1000)"
   ]
  },
  {
   "cell_type": "code",
   "execution_count": 187,
   "metadata": {},
   "outputs": [],
   "source": [
    "#testing my functions"
   ]
  },
  {
   "cell_type": "code",
   "execution_count": 193,
   "metadata": {},
   "outputs": [],
   "source": [
    "def exp_burst_fit(theta, x):\n",
    "    \"\"\"Polynomial model of degree (len(theta) - 1)\"\"\"\n",
    "    # For a polynomial with order 1, this gives theta_0 + theta_1*x\n",
    "    # For a polynomial with order 2, this gives theta_0 + theta_1*x + theta_2*x^2, etc.\n",
    "    #return sum(t * x ** n for (n, t) in enumerate(theta))\n",
    "    b = theta[0]\n",
    "    A = theta[1]\n",
    "    t0 = theta[2]\n",
    "    alpha = theta[3]\n",
    "    for i in t:\n",
    "        if i<t0:\n",
    "            return b\n",
    "        if i>=t0:\n",
    "            return b + A*np.exp(-alpha*(t-t0))\n",
    "    \n"
   ]
  },
  {
   "cell_type": "code",
   "execution_count": 194,
   "metadata": {},
   "outputs": [],
   "source": [
    "#functional for exponential burst fit model\n",
    "def exp_burst_fit(theta, x):\n",
    "    for b,A,t0,alpha in theta:\n",
    "        if t<t0:\n",
    "            return b\n",
    "        if t>=t0:\n",
    "            return b + A*np.exp(-alpha*(t-t0))"
   ]
  },
  {
   "cell_type": "code",
   "execution_count": 166,
   "metadata": {},
   "outputs": [],
   "source": [
    "def exp_burst_fit(theta, x):\n",
    "    if t<t0:\n",
    "        return b\n",
    "    if t>=t0:\n",
    "        return b + A*np.exp(-alpha*(t-t0))"
   ]
  },
  {
   "cell_type": "code",
   "execution_count": 190,
   "metadata": {},
   "outputs": [],
   "source": [
    "# compute the data log-likelihood given a model\n",
    "def logL(theta, data, model=exp_burst_fit):\n",
    "    #\"\"\"Gaussian log-likelihood of the model at theta\"\"\"\n",
    "    #separating data into columns\n",
    "    x = data[:,0]\n",
    "    y = data[:,1]\n",
    "    sigma_y = data[:,2]\n",
    "    #fitting model\n",
    "    y_fit = exp_burst_fit(theta, x)\n",
    "    return sum(scipy.stats.norm.logpdf(*args) \n",
    "               for args in zip(y, y_fit, sigma_y))"
   ]
  },
  {
   "cell_type": "markdown",
   "metadata": {},
   "source": [
    "### Part 3"
   ]
  },
  {
   "cell_type": "code",
   "execution_count": 195,
   "metadata": {},
   "outputs": [],
   "source": [
    "#Using one of the MCMC codes that we looked at in class (`emcee`, `pymc3`, `PTMCMCSampler`) perform a Bayesian analysis that recovers an MCMC chain \n",
    "# of posterior probability samples for the joint parameter space of $\\{b,A,t_0,\\alpha\\}$. You must decide on how many samples are appropriate for running your MCMC. \n",
    "#For your priors, make them $b\\in \\mathrm{Uniform}[0,50]$, $A\\in \\mathrm{Uniform}[0,50]$, $t_0\\in \\mathrm{Uniform}[0,100]$, and $\\ln\\alpha\\in \\mathrm{Uniform}[-5,5]$.\n",
    "\n",
    "#Making Priors\n",
    "b_prior = scipy.stats.uniform(0,50)         #low bound 0, width 50 = high bound 50\n",
    "A_prior = scipy.stats.uniform(0,100)        #low bound 0, width 100 = high bound 100\n",
    "t0_prior = scipy.stats.uniform(0,100)       #low bound 0, width 100 = high bound 100\n",
    "alpha_prior = scipy.stats.uniform(-5,10)    #low bound -5, width 10 = high bound 5"
   ]
  },
  {
   "cell_type": "code",
   "execution_count": null,
   "metadata": {},
   "outputs": [],
   "source": [
    "#starting mcmc chain\n",
    "\n",
    "#using PTMCMC\n",
    "from PTMCMCSampler.PTMCMCSampler import PTSampler as ptmcmc #importing PTMCMC\n",
    "\n",
    "#building parts for MCMC:\n",
    "# dimension of parameter space\n",
    "ndim = 4 #dimensions are b, A, t0, alpha\n",
    "# initial jump covariance matrix\n",
    "cov = np.diag(np.ones(ndim))    #array of 4 dimensions filled with ones, made diagonal\n",
    "\n",
    "#defining function of priors to be used in findng the posterior\n",
    "def logPrior()\n",
    "    ???\n",
    "    combo_prior = b_prior * A_prior * t0_prior * alpha_prior\n",
    "    return combo_prior\n",
    "\n",
    "# intialize sampler for posterior\n",
    "sampler = ptmcmc(ndim, logLikelihood, logPrior, cov,    #number of dimensions, log likelihood, priors, initial covariance matrix\n",
    "                 outDir='./my_ptmcmc_chain', resume=False)\n",
    "\n"
   ]
  },
  {
   "cell_type": "markdown",
   "metadata": {},
   "source": [
    "### Part 4"
   ]
  },
  {
   "cell_type": "code",
   "execution_count": null,
   "metadata": {},
   "outputs": [],
   "source": []
  },
  {
   "cell_type": "markdown",
   "metadata": {},
   "source": [
    "### Part 5"
   ]
  },
  {
   "cell_type": "code",
   "execution_count": null,
   "metadata": {},
   "outputs": [],
   "source": []
  },
  {
   "cell_type": "markdown",
   "metadata": {},
   "source": [
    "### Part 6"
   ]
  },
  {
   "cell_type": "code",
   "execution_count": null,
   "metadata": {},
   "outputs": [],
   "source": []
  },
  {
   "cell_type": "markdown",
   "metadata": {},
   "source": [
    "### Part 7"
   ]
  },
  {
   "cell_type": "code",
   "execution_count": null,
   "metadata": {},
   "outputs": [],
   "source": []
  }
 ],
 "metadata": {
  "anaconda-cloud": {},
  "kernelspec": {
   "display_name": "Python 3",
   "language": "python",
   "name": "python3"
  },
  "language_info": {
   "codemirror_mode": {
    "name": "ipython",
    "version": 3
   },
   "file_extension": ".py",
   "mimetype": "text/x-python",
   "name": "python",
   "nbconvert_exporter": "python",
   "pygments_lexer": "ipython3",
   "version": "3.11.7"
  }
 },
 "nbformat": 4,
 "nbformat_minor": 2
}
