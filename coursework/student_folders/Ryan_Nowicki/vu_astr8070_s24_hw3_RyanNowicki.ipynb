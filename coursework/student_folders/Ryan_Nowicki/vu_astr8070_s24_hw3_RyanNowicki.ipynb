{
 "cells": [
  {
   "cell_type": "markdown",
   "metadata": {},
   "source": [
    "### ASTR 8070: Astrostatistics\n",
    "***S. R. Taylor***\n",
    "___\n",
    "\n",
    "# Homework 3\n",
    "### Due: Saturday, Feb 10th at 11.59pm CST\n",
    "---"
   ]
  },
  {
   "cell_type": "markdown",
   "metadata": {},
   "source": [
    "## Only one problem this week\n",
    "\n",
    "This problem uses a dataset in `/coursework/homeworks/hw_data/`.\n",
    "\n",
    "1) Read in `hw3_data_1.npy`. This is a (50 x 2) numpy array, with measurements in the first column and uncertainties in the second column. Using the analytic results for heteroscedastic Gaussian data from lectures, compute the sample mean and the standard error on the sample mean from for this data.\n",
    "\n",
    "2) Reusing some approaches and tools from `Lecture_6`, write a ln-likelihood function for heteroscedastic Gaussian data, and use it in a fitting algorithm to find the best-fit mean. *Remember that scipy optimizers are set up to minimize functions.*\n",
    "\n",
    "3) Using the same numerical technique from `Lecture_5`, compute the Fisher uncertainty estimate on the mean.\n",
    "\n",
    "4) Using the bootstrap method, generate $1000$ bootstrap realizations of this dataset. *DO NOT use the `astroML` code. Write your own bootstrap function from scratch. Also recall that when resampling data, measurements and uncertainties should stay paired together.*\n",
    "\n",
    "5) Repeat (2) with all $1000$ boostrap datasets to find the distribution of the sample mean. Plot a normalized histogram of these bootstrap means, and overplot a Gaussian pdf with the mean and std found in (1). Do these agree?\n",
    "\n",
    "6) While we have fitted a heteroscedastic Gaussian to this data, let's try something else. Write some code to define a ln-likelihood for a Laplace distribution evaluated on this data. Fit simultaneously for the Laplace location parameter $\\mu$ and scale parameter $\\Delta$.\n",
    "\n",
    "7) Compute the AIC values for the heteroscedastic Gaussian model and the Laplacian model. Which model is favored by the data?\n",
    "\n",
    "8) Using the $1000$ bootstrap datasets from before, fit for the Laplacian $\\mu$ and $\\Delta$ for each. Make a nice `corner` plot of the distributions of $\\mu$ and $\\Delta$ that shows both the marginal $1$D distributions and the joint $2$D distribution. Make sure the plot has labels, shows the titles on each $1$D marginal panel, and has $68\\%$ and $95\\%$ levels.\n",
    "\n",
    "9) Let's finish with a Fisher uncertainty estimate of the Laplacian parameters. Use the following code to install `numdifftools` which provides a simple way to compute derivatives. We can then compute the Hessian matrix, which is the matrix of the second derivatives of the user's function. This should be computed at the best-fit Laplacian parameters $\\mu$ and $\\Delta$. To finish, invert the matrix, and then take the square root. The diagonal entries will then be the Fisher uncertainties on $\\mu$ and $\\Delta$. How does these compare to the bootstrap distribution widths found in (8)?"
   ]
  },
  {
   "cell_type": "code",
   "execution_count": 1,
   "metadata": {},
   "outputs": [
    {
     "name": "stdout",
     "output_type": "stream",
     "text": [
      "Collecting numdifftools\n",
      "  Downloading numdifftools-0.9.41-py2.py3-none-any.whl (100 kB)\n",
      "\u001b[2K     \u001b[90m━━━━━━━━━━━━━━━━━━━━━━━━━━━━━━━━━━━━━━━\u001b[0m \u001b[32m100.2/100.2 kB\u001b[0m \u001b[31m2.3 MB/s\u001b[0m eta \u001b[36m0:00:00\u001b[0ma \u001b[36m0:00:01\u001b[0m\n",
      "\u001b[?25hRequirement already satisfied: numpy>=1.9 in /home/nowickr/miniconda3/envs/astro8070/lib/python3.11/site-packages (from numdifftools) (1.26.3)\n",
      "Requirement already satisfied: scipy>=0.8 in /home/nowickr/miniconda3/envs/astro8070/lib/python3.11/site-packages (from numdifftools) (1.11.4)\n",
      "Installing collected packages: numdifftools\n",
      "Successfully installed numdifftools-0.9.41\n"
     ]
    }
   ],
   "source": [
    "!pip install numdifftools"
   ]
  },
  {
   "cell_type": "code",
   "execution_count": 9,
   "metadata": {},
   "outputs": [
    {
     "ename": "NameError",
     "evalue": "name 'f_lnlaplace' is not defined",
     "output_type": "error",
     "traceback": [
      "\u001b[0;31m---------------------------------------------------------------------------\u001b[0m",
      "\u001b[0;31mNameError\u001b[0m                                 Traceback (most recent call last)",
      "Cell \u001b[0;32mIn[9], line 2\u001b[0m\n\u001b[1;32m      1\u001b[0m \u001b[38;5;28;01mimport\u001b[39;00m \u001b[38;5;21;01mnumdifftools\u001b[39;00m \u001b[38;5;28;01mas\u001b[39;00m \u001b[38;5;21;01mnd\u001b[39;00m\n\u001b[0;32m----> 2\u001b[0m H \u001b[38;5;241m=\u001b[39m nd\u001b[38;5;241m.\u001b[39mHessian(f_lnlaplace)([beta_laplace[\u001b[38;5;241m0\u001b[39m], beta_laplace[\u001b[38;5;241m1\u001b[39m]])\n\u001b[1;32m      3\u001b[0m sigma_laplace \u001b[38;5;241m=\u001b[39m np\u001b[38;5;241m.\u001b[39mlinalg\u001b[38;5;241m.\u001b[39minv(H)\u001b[38;5;241m*\u001b[39m\u001b[38;5;241m*\u001b[39m\u001b[38;5;241m0.5\u001b[39m\n",
      "\u001b[0;31mNameError\u001b[0m: name 'f_lnlaplace' is not defined"
     ]
    }
   ],
   "source": [
    "import numdifftools as nd\n",
    "H = nd.Hessian(f_lnlaplace)([beta_laplace[0], beta_laplace[1]])\n",
    "sigma_laplace = np.linalg.inv(H)**0.5"
   ]
  },
  {
   "cell_type": "markdown",
   "metadata": {},
   "source": [
    "### Solution"
   ]
  },
  {
   "cell_type": "code",
   "execution_count": 6,
   "metadata": {},
   "outputs": [],
   "source": [
    "#import tools\n",
    "import numpy as np\n",
    "import matplotlib as plt\n",
    "import scipy\n"
   ]
  },
  {
   "cell_type": "code",
   "execution_count": 8,
   "metadata": {},
   "outputs": [
    {
     "name": "stdout",
     "output_type": "stream",
     "text": [
      "[[2.97207735 0.93806458]\n",
      " [1.98824293 1.40262692]\n",
      " [1.66981961 1.97120698]\n",
      " [3.96519709 0.60359301]\n",
      " [3.38541476 1.29698654]\n",
      " [4.24894584 1.68629961]\n",
      " [3.69290063 1.06277049]\n",
      " [4.33198366 1.28038671]\n",
      " [2.49401178 1.22485083]\n",
      " [1.89419429 1.40555012]\n",
      " [2.04203146 1.30841409]\n",
      " [4.15394176 1.97421998]\n",
      " [4.14130534 1.59510787]\n",
      " [4.21256076 1.4295954 ]\n",
      " [4.47047556 0.9776734 ]\n",
      " [4.29385594 1.47949413]\n",
      " [3.68668822 0.96958318]\n",
      " [4.67658913 1.53171867]\n",
      " [3.66326255 0.51330266]\n",
      " [3.86702391 0.69561611]\n",
      " [4.15062285 0.76745015]\n",
      " [5.10972749 1.94193392]\n",
      " [4.16180633 1.26347131]\n",
      " [4.04294769 1.50713396]\n",
      " [3.14447868 1.51402808]\n",
      " [6.13017327 1.67982047]\n",
      " [7.47431877 1.79210525]\n",
      " [4.55226549 0.70417746]\n",
      " [3.18937552 1.41750426]\n",
      " [5.05068215 1.59340252]\n",
      " [2.58504832 1.40936962]\n",
      " [3.2807617  0.7817426 ]\n",
      " [3.15074159 0.5165563 ]\n",
      " [4.68488632 0.67327222]\n",
      " [6.58112816 1.91096086]\n",
      " [2.8891109  1.63403368]\n",
      " [5.12723698 0.58202125]\n",
      " [4.42150207 0.86437187]\n",
      " [5.78739811 1.1488919 ]\n",
      " [3.09099302 0.99063548]\n",
      " [2.95001153 1.72585217]\n",
      " [4.56778994 1.07847601]\n",
      " [5.18264257 0.85565779]\n",
      " [2.84179256 0.71061225]\n",
      " [4.39262812 1.76637912]\n",
      " [4.04550675 0.59957146]\n",
      " [5.61515858 1.54215483]\n",
      " [4.30454563 1.09315219]\n",
      " [4.54079173 0.55998747]\n",
      " [4.6024919  0.78480243]\n",
      " [4.22466725 0.65620631]\n",
      " [3.23519179 1.05628333]\n",
      " [4.68671169 1.61054331]\n",
      " [3.52982363 0.5737954 ]\n",
      " [3.91370395 1.54376768]\n",
      " [2.45921984 1.25788577]\n",
      " [4.24447507 0.5740388 ]\n",
      " [3.14653177 0.77481835]\n",
      " [5.33943461 1.56386731]\n",
      " [4.03419177 0.93585464]\n",
      " [5.29661353 0.94398386]\n",
      " [1.53762427 1.73185342]\n",
      " [4.73684358 1.89022008]\n",
      " [4.39143774 1.30640142]\n",
      " [4.86001446 1.54601227]\n",
      " [2.94239726 1.48436902]\n",
      " [4.77882139 1.62476338]\n",
      " [2.20043281 1.00299831]\n",
      " [4.65868995 0.85911013]\n",
      " [3.06975053 0.52684871]\n",
      " [4.27078305 1.32872544]\n",
      " [5.45355937 1.86199703]\n",
      " [3.58302266 1.42962684]\n",
      " [6.78259445 1.37286052]\n",
      " [3.69313217 1.73866964]\n",
      " [3.8625051  0.68447321]\n",
      " [5.04842957 1.72305337]\n",
      " [2.93330476 1.56728894]\n",
      " [4.26274594 0.56023998]\n",
      " [4.09244224 0.86605321]\n",
      " [3.10229518 0.64341876]\n",
      " [3.22028372 1.73707399]\n",
      " [3.67446241 0.50535491]\n",
      " [3.15810998 0.51140379]\n",
      " [3.13482852 1.78621005]\n",
      " [0.41036839 1.52273128]\n",
      " [3.46562245 0.88805017]\n",
      " [1.35147524 1.91348597]\n",
      " [4.94178893 1.07902421]\n",
      " [5.021566   0.66213091]\n",
      " [3.28702062 1.19433008]\n",
      " [4.81515552 0.65059471]\n",
      " [4.7044181  0.94529203]\n",
      " [2.93012022 1.46766151]\n",
      " [4.77388898 1.77940055]\n",
      " [4.07784029 1.44294596]\n",
      " [4.10135768 1.93956482]\n",
      " [3.08022213 1.01228358]\n",
      " [4.53694361 1.92379373]\n",
      " [3.19879973 1.05058342]]\n"
     ]
    }
   ],
   "source": [
    "#load array\n",
    "data = np.load('/home/nowickr/astr_8070_s24/coursework/homeworks/hw_data/hw3_data_1.npy')\n",
    "print(data)"
   ]
  },
  {
   "cell_type": "code",
   "execution_count": null,
   "metadata": {},
   "outputs": [],
   "source": []
  }
 ],
 "metadata": {
  "anaconda-cloud": {},
  "kernelspec": {
   "display_name": "Python 3",
   "language": "python",
   "name": "python3"
  },
  "language_info": {
   "codemirror_mode": {
    "name": "ipython",
    "version": 3
   },
   "file_extension": ".py",
   "mimetype": "text/x-python",
   "name": "python",
   "nbconvert_exporter": "python",
   "pygments_lexer": "ipython3",
   "version": "3.11.7"
  }
 },
 "nbformat": 4,
 "nbformat_minor": 2
}
