{
 "cells": [
  {
   "cell_type": "markdown",
   "metadata": {},
   "source": [
    "### ASTR 8070: Astrostatistics\n",
    "***S. R. Taylor***\n",
    "___\n",
    "\n",
    "# Homework 3\n",
    "### Due: Saturday, Feb 10th at 11.59pm CST\n",
    "---"
   ]
  },
  {
   "cell_type": "markdown",
   "metadata": {},
   "source": [
    "## Only one problem this week\n",
    "\n",
    "This problem uses a dataset in `/coursework/homeworks/hw_data/`.\n",
    "\n",
    "1) Read in `hw3_data_1.npy`. This is a (50 x 2) numpy array, with measurements in the first column and uncertainties in the second column. Using the analytic results for heteroscedastic Gaussian data from lectures, compute the sample mean and the standard error on the sample mean from for this data.\n",
    "\n",
    "2) Reusing some approaches and tools from `Lecture_6`, write a ln-likelihood function for heteroscedastic Gaussian data, and use it in a fitting algorithm to find the best-fit mean. *Remember that scipy optimizers are set up to minimize functions.*\n",
    "\n",
    "3) Using the same numerical technique from `Lecture_5`, compute the Fisher uncertainty estimate on the mean.\n",
    "\n",
    "4) Using the bootstrap method, generate $1000$ bootstrap realizations of this dataset. *DO NOT use the `astroML` code. Write your own bootstrap function from scratch. Also recall that when resampling data, measurements and uncertainties should stay paired together.*\n",
    "\n",
    "5) Repeat (2) with all $1000$ boostrap datasets to find the distribution of the sample mean. Plot a normalized histogram of these bootstrap means, and overplot a Gaussian pdf with the mean and std found in (1). Do these agree?\n",
    "\n",
    "6) While we have fitted a heteroscedastic Gaussian to this data, let's try something else. Write some code to define a ln-likelihood for a Laplace distribution evaluated on this data. Fit simultaneously for the Laplace location parameter $\\mu$ and scale parameter $\\Delta$.\n",
    "\n",
    "7) Compute the AIC values for the heteroscedastic Gaussian model and the Laplacian model. Which model is favored by the data?\n",
    "\n",
    "8) Using the $1000$ bootstrap datasets from before, fit for the Laplacian $\\mu$ and $\\Delta$ for each. Make a nice `corner` plot of the distributions of $\\mu$ and $\\Delta$ that shows both the marginal $1$D distributions and the joint $2$D distribution. Make sure the plot has labels, shows the titles on each $1$D marginal panel, and has $68\\%$ and $95\\%$ levels.\n",
    "\n",
    "9) Let's finish with a Fisher uncertainty estimate of the Laplacian parameters. Use the following code to install `numdifftools` which provides a simple way to compute derivatives. We can then compute the Hessian matrix, which is the matrix of the second derivatives of the user's function. This should be computed at the best-fit Laplacian parameters $\\mu$ and $\\Delta$. To finish, invert the matrix, and then take the square root. The diagonal entries will then be the Fisher uncertainties on $\\mu$ and $\\Delta$. How does these compare to the bootstrap distribution widths found in (8)?"
   ]
  },
  {
   "cell_type": "code",
   "execution_count": 182,
   "metadata": {},
   "outputs": [
    {
     "name": "stdout",
     "output_type": "stream",
     "text": [
      "Requirement already satisfied: numdifftools in /Users/culbreks/anaconda3/lib/python3.11/site-packages (0.9.41)\n",
      "Requirement already satisfied: numpy>=1.9 in /Users/culbreks/anaconda3/lib/python3.11/site-packages (from numdifftools) (1.24.3)\n",
      "Requirement already satisfied: scipy>=0.8 in /Users/culbreks/anaconda3/lib/python3.11/site-packages (from numdifftools) (1.11.1)\n"
     ]
    }
   ],
   "source": [
    "!pip install numdifftools"
   ]
  },
  {
   "cell_type": "code",
   "execution_count": 4,
   "metadata": {},
   "outputs": [
    {
     "ename": "NameError",
     "evalue": "name 'f_lnlaplace' is not defined",
     "output_type": "error",
     "traceback": [
      "\u001b[0;31m---------------------------------------------------------------------------\u001b[0m",
      "\u001b[0;31mNameError\u001b[0m                                 Traceback (most recent call last)",
      "Cell \u001b[0;32mIn[4], line 2\u001b[0m\n\u001b[1;32m      1\u001b[0m \u001b[38;5;28;01mimport\u001b[39;00m \u001b[38;5;21;01mnumdifftools\u001b[39;00m \u001b[38;5;28;01mas\u001b[39;00m \u001b[38;5;21;01mnd\u001b[39;00m\n\u001b[0;32m----> 2\u001b[0m H \u001b[38;5;241m=\u001b[39m nd\u001b[38;5;241m.\u001b[39mHessian(f_lnlaplace)([beta_laplace[\u001b[38;5;241m0\u001b[39m], beta_laplace[\u001b[38;5;241m1\u001b[39m]])\n\u001b[1;32m      3\u001b[0m sigma_laplace \u001b[38;5;241m=\u001b[39m np\u001b[38;5;241m.\u001b[39mlinalg\u001b[38;5;241m.\u001b[39minv(H)\u001b[38;5;241m*\u001b[39m\u001b[38;5;241m*\u001b[39m\u001b[38;5;241m0.5\u001b[39m\n",
      "\u001b[0;31mNameError\u001b[0m: name 'f_lnlaplace' is not defined"
     ]
    }
   ],
   "source": [
    "import numdifftools as nd\n",
    "H = nd.Hessian(f_lnlaplace)([beta_laplace[0], beta_laplace[1]])\n",
    "sigma_laplace = np.linalg.inv(H)**0.5"
   ]
  },
  {
   "cell_type": "markdown",
   "metadata": {},
   "source": [
    "### Solution"
   ]
  },
  {
   "cell_type": "markdown",
   "metadata": {},
   "source": [
    "Copilot is being used to make my the comments of my codes alottttt better"
   ]
  },
  {
   "cell_type": "markdown",
   "metadata": {},
   "source": [
    "Part 1"
   ]
  },
  {
   "cell_type": "code",
   "execution_count": 194,
   "metadata": {},
   "outputs": [],
   "source": [
    "# Import lib \n",
    "import numpy as np\n",
    "from scipy import optimize\n",
    "from scipy.stats import norm\n",
    "import matplotlib.pyplot as plt\n",
    "\n"
   ]
  },
  {
   "cell_type": "code",
   "execution_count": 195,
   "metadata": {},
   "outputs": [
    {
     "name": "stdout",
     "output_type": "stream",
     "text": [
      "Sample mean:  3.9179920346060557\n",
      "Standard error on sample mean: 10.54731705149739\n",
      "Mesurement:  [2.97207735 1.98824293 1.66981961 3.96519709 3.38541476 4.24894584\n",
      " 3.69290063 4.33198366 2.49401178 1.89419429 2.04203146 4.15394176\n",
      " 4.14130534 4.21256076 4.47047556 4.29385594 3.68668822 4.67658913\n",
      " 3.66326255 3.86702391 4.15062285 5.10972749 4.16180633 4.04294769\n",
      " 3.14447868 6.13017327 7.47431877 4.55226549 3.18937552 5.05068215\n",
      " 2.58504832 3.2807617  3.15074159 4.68488632 6.58112816 2.8891109\n",
      " 5.12723698 4.42150207 5.78739811 3.09099302 2.95001153 4.56778994\n",
      " 5.18264257 2.84179256 4.39262812 4.04550675 5.61515858 4.30454563\n",
      " 4.54079173 4.6024919  4.22466725 3.23519179 4.68671169 3.52982363\n",
      " 3.91370395 2.45921984 4.24447507 3.14653177 5.33943461 4.03419177\n",
      " 5.29661353 1.53762427 4.73684358 4.39143774 4.86001446 2.94239726\n",
      " 4.77882139 2.20043281 4.65868995 3.06975053 4.27078305 5.45355937\n",
      " 3.58302266 6.78259445 3.69313217 3.8625051  5.04842957 2.93330476\n",
      " 4.26274594 4.09244224 3.10229518 3.22028372 3.67446241 3.15810998\n",
      " 3.13482852 0.41036839 3.46562245 1.35147524 4.94178893 5.021566\n",
      " 3.28702062 4.81515552 4.7044181  2.93012022 4.77388898 4.07784029\n",
      " 4.10135768 3.08022213 4.53694361 3.19879973]\n",
      "Uncertainites:  [0.93806458 1.40262692 1.97120698 0.60359301 1.29698654 1.68629961\n",
      " 1.06277049 1.28038671 1.22485083 1.40555012 1.30841409 1.97421998\n",
      " 1.59510787 1.4295954  0.9776734  1.47949413 0.96958318 1.53171867\n",
      " 0.51330266 0.69561611 0.76745015 1.94193392 1.26347131 1.50713396\n",
      " 1.51402808 1.67982047 1.79210525 0.70417746 1.41750426 1.59340252\n",
      " 1.40936962 0.7817426  0.5165563  0.67327222 1.91096086 1.63403368\n",
      " 0.58202125 0.86437187 1.1488919  0.99063548 1.72585217 1.07847601\n",
      " 0.85565779 0.71061225 1.76637912 0.59957146 1.54215483 1.09315219\n",
      " 0.55998747 0.78480243 0.65620631 1.05628333 1.61054331 0.5737954\n",
      " 1.54376768 1.25788577 0.5740388  0.77481835 1.56386731 0.93585464\n",
      " 0.94398386 1.73185342 1.89022008 1.30640142 1.54601227 1.48436902\n",
      " 1.62476338 1.00299831 0.85911013 0.52684871 1.32872544 1.86199703\n",
      " 1.42962684 1.37286052 1.73866964 0.68447321 1.72305337 1.56728894\n",
      " 0.56023998 0.86605321 0.64341876 1.73707399 0.50535491 0.51140379\n",
      " 1.78621005 1.52273128 0.88805017 1.91348597 1.07902421 0.66213091\n",
      " 1.19433008 0.65059471 0.94529203 1.46766151 1.77940055 1.44294596\n",
      " 1.93956482 1.01228358 1.92379373 1.05058342]\n"
     ]
    }
   ],
   "source": [
    "# Load the data from the .npy file\n",
    "# The file is located in the relative path \"../../homeworks/hw_data/hw3_data_1.npy\"\n",
    "data = np.load(\"../../homeworks/hw_data/hw3_data_1.npy\")\n",
    "\n",
    "# The data is assumed to be heteroscedastic Gaussian data\n",
    "# We use the analytic results from lectures to compute the sample mean and the standard error on the sample mean\n",
    "\n",
    "# Using measurements and uncertainties from the data array\n",
    "U = data[:, 1]\n",
    "M = data[:, 0]\n",
    "\n",
    "# The sample mean is the sum of each data point divided by its variance, all divided by the sum of the reciprocals of the variances\n",
    "sample_mean = np.sum(M / U**2) / np.sum(1 / U**2)\n",
    "\n",
    "# The standard error is the square root of the sum of the reciprocals of the variances\n",
    "std_err = np.sqrt(np.sum(1 / U**2))\n",
    "\n",
    "# Print the calculated sample mean and standard error\n",
    "print('Sample mean: ', sample_mean)\n",
    "print('Standard error on sample mean:', std_err)\n",
    "\n",
    "# Print measurements and uncertainties from the data array'\n",
    "print('Mesurement: ' , M)\n",
    "print('Uncertainites: ' , U)"
   ]
  },
  {
   "cell_type": "markdown",
   "metadata": {},
   "source": [
    "SRT: Your final standard error on the mean should be inverted. This should be clear by inspection. -2 points."
   ]
  },
  {
   "cell_type": "markdown",
   "metadata": {},
   "source": [
    "Part 2"
   ]
  },
  {
   "cell_type": "code",
   "execution_count": 196,
   "metadata": {},
   "outputs": [
    {
     "name": "stdout",
     "output_type": "stream",
     "text": [
      "Best fit mean:  3.91796875\n"
     ]
    }
   ],
   "source": [
    "# Define the squared loss function for a Gaussian distribution\n",
    "# This function calculates the chi-squared statistic, which is equivalent to -2 times the log-likelihood for a Gaussian distribution\n",
    "def squared_loss(mu, xi, sigma):\n",
    "    # The model is a constant mean value\n",
    "    # The chi-squared statistic is the sum of the squared differences between the data and the model, weighted by the inverse of the data uncertainties\n",
    "    return np.sum(((xi - mu) / sigma) ** 2, -1)\n",
    "\n",
    "# Define a lambda function for the squared loss\n",
    "# This function takes a single argument, test, which is an array of model parameters\n",
    "# In this case, the only model parameter is the mean value\n",
    "f_squared = lambda beta: squared_loss(beta[0], xi=M, sigma=U)\n",
    "\n",
    "# Set an initial guess for the mean value\n",
    "guess = 4\n",
    "\n",
    "# Use scipy's fmin function to find the model parameters that minimize the squared loss\n",
    "# The disp=False argument means that fmin will not print convergence messages\n",
    "test_squared = optimize.fmin(f_squared, guess, disp=False)\n",
    "\n",
    "# Print the best-fit mean value\n",
    "print('Best fit mean: ', test_squared[0])"
   ]
  },
  {
   "cell_type": "markdown",
   "metadata": {},
   "source": [
    "SRT: Good."
   ]
  },
  {
   "cell_type": "markdown",
   "metadata": {},
   "source": [
    "Part 3"
   ]
  },
  {
   "cell_type": "code",
   "execution_count": 197,
   "metadata": {},
   "outputs": [
    {
     "name": "stdout",
     "output_type": "stream",
     "text": [
      "Fisher matrix error on estimated mean is 0.095\n"
     ]
    }
   ],
   "source": [
    "# Define a grid of possible mean values\n",
    "xgrid = np.linspace(1, 8, 1000)\n",
    "\n",
    "# Initialize an empty list to store the sum of the log-probabilities for each mean value to compute the Fisher information\n",
    "fisher_info = []\n",
    "\n",
    "# Calculate the likelihood function at each point on the grid\n",
    "# Loop over the possible mean values\n",
    "for mu in xgrid:\n",
    "    # Compute the log-probability of the data given the current mean value and uncertainties\n",
    "    logpdf = norm.logpdf(M, loc=mu, scale=U)\n",
    "    \n",
    "    # Sum the log-probabilities and append the result to the list\n",
    "    fisher_info.append(np.sum(logpdf))\n",
    "\n",
    "# Convert the list of sums to a numpy array\n",
    "L = np.array(fisher_info)\n",
    "\n",
    "# Compute the second derivative of the log-likelihood with respect to the mean\n",
    "# This is equivalent to the negative of the Fisher information\n",
    "sig_mu_squared = -np.diff(L, n=2) / (xgrid[1] - xgrid[0])**2\n",
    "\n",
    "# The Fisher uncertainty estimate is the square root of the inverse of the Fisher information\n",
    "sig_mu = 1 / np.sqrt(sig_mu_squared)[0]\n",
    "\n",
    "print(\"Fisher matrix error on estimated mean is %.3f\" % sig_mu)"
   ]
  },
  {
   "cell_type": "markdown",
   "metadata": {},
   "source": [
    "SRT: Great!"
   ]
  },
  {
   "cell_type": "markdown",
   "metadata": {},
   "source": [
    "Part 4"
   ]
  },
  {
   "cell_type": "code",
   "execution_count": 198,
   "metadata": {},
   "outputs": [
    {
     "name": "stdout",
     "output_type": "stream",
     "text": [
      "Bootstrap measurements:\n",
      "[5.04842957 4.81515552 2.49401178 3.69290063 1.53762427 5.12723698\n",
      " 4.54079173 3.67446241 5.78739811 4.7044181  5.29661353 3.69313217\n",
      " 4.94178893 3.18937552 1.89419429 2.49401178 2.94239726 3.8625051\n",
      " 2.97207735 3.15810998 3.69290063 5.78739811 5.05068215 3.19879973\n",
      " 4.14130534 3.46562245 2.84179256 5.33943461 2.49401178 3.13482852\n",
      " 3.68668822 2.58504832 1.89419429 3.23519179 1.35147524 3.2807617\n",
      " 4.67658913 4.56778994 4.7044181  5.33943461 5.021566   2.84179256\n",
      " 5.05068215 4.39143774 4.73684358 3.38541476 4.47047556 3.22028372\n",
      " 3.15074159 4.68488632 4.68488632 4.10135768 4.68488632 4.09244224\n",
      " 3.52982363 4.22466725 4.68488632 4.67658913 5.04842957 5.45355937\n",
      " 3.52982363 6.13017327 4.24894584 3.2807617  3.22028372 3.38541476\n",
      " 5.04842957 3.38541476 3.28702062 4.55226549 1.53762427 3.58302266\n",
      " 2.8891109  4.03419177 1.35147524 3.46562245 3.8625051  1.66981961\n",
      " 4.39143774 3.66326255 4.24894584 2.45921984 4.07784029 2.04203146\n",
      " 3.68668822 4.24894584 7.47431877 4.42150207 3.8625051  2.84179256\n",
      " 3.86702391 3.14447868 2.45921984 4.55226549 3.22028372 4.67658913\n",
      " 4.33198366 5.18264257 3.58302266 3.06975053]\n",
      "Bootstrap uncertainties:\n",
      "[1.72305337 0.65059471 1.22485083 1.06277049 1.73185342 0.58202125\n",
      " 0.55998747 0.50535491 1.1488919  0.94529203 0.94398386 1.73866964\n",
      " 1.07902421 1.41750426 1.40555012 1.22485083 1.48436902 0.68447321\n",
      " 0.93806458 0.51140379 1.06277049 1.1488919  1.59340252 1.05058342\n",
      " 1.59510787 0.88805017 0.71061225 1.56386731 1.22485083 1.78621005\n",
      " 0.96958318 1.40936962 1.40555012 1.05628333 1.91348597 0.7817426\n",
      " 1.53171867 1.07847601 0.94529203 1.56386731 0.66213091 0.71061225\n",
      " 1.59340252 1.30640142 1.89022008 1.29698654 0.9776734  1.73707399\n",
      " 0.5165563  0.67327222 0.67327222 1.93956482 0.67327222 0.86605321\n",
      " 0.5737954  0.65620631 0.67327222 1.53171867 1.72305337 1.86199703\n",
      " 0.5737954  1.67982047 1.68629961 0.7817426  1.73707399 1.29698654\n",
      " 1.72305337 1.29698654 1.19433008 0.70417746 1.73185342 1.42962684\n",
      " 1.63403368 0.93585464 1.91348597 0.88805017 0.68447321 1.97120698\n",
      " 1.30640142 0.51330266 1.68629961 1.25788577 1.44294596 1.30841409\n",
      " 0.96958318 1.68629961 1.79210525 0.86437187 0.68447321 0.71061225\n",
      " 0.69561611 1.51402808 1.25788577 0.70417746 1.73707399 1.53171867\n",
      " 1.28038671 0.85565779 1.42962684 0.52684871]\n"
     ]
    }
   ],
   "source": [
    "# Define a function to generate bootstrap realizations of the dataset\n",
    "def bootstrap_resample(M, U, num_samples=1000):\n",
    "    \"\"\"\n",
    "    Generate bootstrap resamples of the dataset.\n",
    "\n",
    "    Parameters:\n",
    "    M (np.array): Measurements of the original dataset.\n",
    "    U (np.array): Uncertainties of the original dataset.\n",
    "    num_samples (int): Number of bootstrap samples to generate.\n",
    "\n",
    "    Returns:\n",
    "    list of np.array: Bootstrap samples of measurements and uncertainties.\n",
    "    \"\"\"\n",
    "    # Get the number of data points\n",
    "    n = len(M)\n",
    "\n",
    "    # Initialize lists to store the bootstrap samples\n",
    "    bootstrap_meas = []\n",
    "    bootstrap_uncert = []\n",
    "\n",
    "    # Generate the bootstrap samples\n",
    "    for _ in range(num_samples):\n",
    "        # Generate a random sample of indices, with replacement\n",
    "        indices = np.random.choice(range(n), size=n, replace=True)\n",
    "\n",
    "        # Select the corresponding measurements and uncertainties\n",
    "        bootstrap_meas.append(M[indices])\n",
    "        bootstrap_uncert.append(U[indices])\n",
    "\n",
    "    return bootstrap_meas, bootstrap_uncert\n",
    "\n",
    "# Generate 1000 bootstrap realizations of the dataset\n",
    "bootstrap_meas, bootstrap_uncert = bootstrap_resample(M, U, 1000)\n",
    "\n",
    "# Print the first bootstrap realization of the measurements and uncertainties\n",
    "print('Bootstrap measurements:')\n",
    "print(bootstrap_meas[0])\n",
    "print('Bootstrap uncertainties:')\n",
    "print(bootstrap_uncert[0])"
   ]
  },
  {
   "cell_type": "markdown",
   "metadata": {},
   "source": [
    "SRT: Great!"
   ]
  },
  {
   "cell_type": "markdown",
   "metadata": {},
   "source": [
    "Part 5"
   ]
  },
  {
   "cell_type": "code",
   "execution_count": 199,
   "metadata": {},
   "outputs": [
    {
     "data": {
      "image/png": "[encoded data removed]",
      "text/plain": [
       "<Figure size 640x480 with 1 Axes>"
      ]
     },
     "metadata": {},
     "output_type": "display_data"
    }
   ],
   "source": [
    "# Define the squared loss function for a Gaussian distribution\n",
    "def squared_loss(mu, xi, sigma):\n",
    "    return np.sum(((xi - mu) / sigma) ** 2)\n",
    "\n",
    "# Define a lambda function for the squared loss\n",
    "f_squared = lambda test: squared_loss(test[0], xi=bootstrap_means, sigma=bootstrap_std)\n",
    "\n",
    "# Set an initial guess for the mean value\n",
    "\"\"\" The fmin function, used in optimize, uses a method called the downhill simplex algorithm. This algorithm \n",
    "is not sensitive to the intial guess, especially for well-behaved functions like the squared loss function for \n",
    "a Gaussian distribution.\"\"\"\n",
    "\n",
    "guess = [5]\n",
    "\n",
    "# Use scipy's fmin function to find the model parameters that minimize the squared loss\n",
    "test_squared = optimize.fmin(f_squared, guess, disp=False)\n",
    "\n",
    "# Calculate the mean of each bootstrap sample\n",
    "bootstrap_means = [np.mean(m) for m in bootstrap_meas]\n",
    "\n",
    "# Calculate the mean and std of the bootstrap means\n",
    "bootstrap_mean = np.mean(bootstrap_means)\n",
    "bootstrap_std = np.std(bootstrap_means)\n",
    "\n",
    "# Plot a normalized histogram of bootstrap means\n",
    "plt.hist(bootstrap_means, bins=50, density=True, alpha=0.6, color='g')\n",
    "\n",
    "# Overplot a Gaussian pdf with the mean and std of the bootstrap means\n",
    "xmin, xmax = plt.xlim()\n",
    "x = np.linspace(xmin, xmax, 1000)\n",
    "dist = norm(test_squared[0], bootstrap_std)\n",
    "plt.plot(x, dist.pdf(x), c='gray')\n",
    "plt.title(\"Fit results: mean = %.4f,  std = %.2f\" % (bootstrap_mean, bootstrap_std))\n",
    "\n",
    "plt.show()"
   ]
  },
  {
   "cell_type": "markdown",
   "metadata": {},
   "source": [
    "SRT: Good, but you avoided comparing with (1) because the error on the mean in (1) was incorrect. Although your Fisher estimate of the error on the mean in (2) was correct! -2 points."
   ]
  },
  {
   "cell_type": "markdown",
   "metadata": {},
   "source": [
    "Part 6"
   ]
  },
  {
   "cell_type": "code",
   "execution_count": 200,
   "metadata": {},
   "outputs": [
    {
     "name": "stdout",
     "output_type": "stream",
     "text": [
      "[4.08692055 0.88226923]\n",
      "Best-fit location parameter:  4.088288159375196\n",
      "Best-fit scale parameter:  0.8822692335377051\n"
     ]
    }
   ],
   "source": [
    "from scipy.stats import laplace\n",
    "from scipy.optimize import fmin\n",
    "\n",
    "# Define the negative log-likelihood for a Laplace distribution\n",
    "def laplace_likelihood(mu, delta, xi):\n",
    "    # The model parameters are mu and delta\n",
    "    likelihood = laplace.logpdf(xi, loc=mu, scale=delta)\n",
    "    # We use a negative sign because optimize finds the function minimum, but we want to maximize the log-likelihood\n",
    "    return -np.sum(likelihood)\n",
    "\n",
    "# Lambda function for the Laplace likelihood\n",
    "f_laplace = lambda scale_v : laplace_likelihood(scale_v[0], scale_v[1], xi=M)\n",
    "print(test_laplace)\n",
    "\n",
    "# Initial guess for mu and delta\n",
    "guess = [4, 1]\n",
    "\n",
    "# Use scipy's fmin function to find the parameters that minimize the negative log-likelihood\n",
    "test_laplace = fmin(f_laplace, guess, disp=False)\n",
    "\n",
    "# Print the best-fit parameters\n",
    "print('Best-fit location parameter: ', test_laplace[0])\n",
    "print('Best-fit scale parameter: ', test_laplace[1])"
   ]
  },
  {
   "cell_type": "markdown",
   "metadata": {},
   "source": [
    "SRT: Good!"
   ]
  },
  {
   "cell_type": "markdown",
   "metadata": {},
   "source": [
    "part 6"
   ]
  },
  {
   "cell_type": "code",
   "execution_count": 205,
   "metadata": {},
   "outputs": [
    {
     "name": "stdout",
     "output_type": "stream",
     "text": [
      "AIC for Gaussian:  174.72904199935144\n",
      "AIC for Laplacian:  317.7015436933863\n"
     ]
    }
   ],
   "source": [
    "def AIC(L_0, k, N):\n",
    "    \"\"\"\n",
    "    Compute the Akaike Information Criterion (AIC).\n",
    "\n",
    "    Parameters:\n",
    "    L_0 (float): The maximum log-likelihood.\n",
    "    k (int): The number of parameters in the model.\n",
    "    N (int): The number of data points.\n",
    "\n",
    "    Returns:\n",
    "    float: The AIC.\n",
    "    \"\"\"\n",
    "    aic = -2 * L_0 + 2 * k + 2 * k * (k + 1) / (N - k - 1)\n",
    "    return aic\n",
    "\n",
    "# Compute the AIC for the Gaussian model\n",
    "# We take the negative of the log-likelihood because we minimized the negative log-likelihood earlier\n",
    "AIC_gaussian = AIC(-squared_loss(test_squared[0], M, U), 1, len(M))\n",
    "\n",
    "# Compute the AIC for the Laplacian model\n",
    "AIC_laplace = AIC(-laplace_likelihood(test_laplace[0], test_laplace[1], M), 2, len(M))\n",
    "\n",
    "# Print the AIC for both models\n",
    "print('AIC for Gaussian: ', AIC_gaussian)\n",
    "print('AIC for Laplacian: ', AIC_laplace)"
   ]
  },
  {
   "cell_type": "markdown",
   "metadata": {},
   "source": [
    "Part 8"
   ]
  },
  {
   "cell_type": "code",
   "execution_count": 189,
   "metadata": {},
   "outputs": [
    {
     "data": {
      "image/png": "[encoded data removed]",
      "text/plain": [
       "<Figure size 550x550 with 4 Axes>"
      ]
     },
     "metadata": {},
     "output_type": "display_data"
    }
   ],
   "source": [
    "import numpy as np\n",
    "from scipy.stats import laplace\n",
    "from scipy.optimize import fmin\n",
    "import matplotlib.pyplot as plt\n",
    "import corner\n",
    "\n",
    "\"\"\"\n",
    "Based on the code from the previous exercise, we can use the bootstrap method to estimate the uncertainty in the parameters of the Laplace distribution.\n",
    "After Steve said maybe making the bootstrap function again and only return the things that is needed for the corner plot, I made the function again.\n",
    "\"\"\"\n",
    "\n",
    "def bootstrap(data, resample=1000):\n",
    "    \"\"\"Generate bootstrap resamples of the data.\"\"\"\n",
    "    n = len(data)\n",
    "    return [data[np.random.choice(n, n, replace=True)] for _ in range(resample)]\n",
    "\n",
    "def laplace_likelihood(params, data):\n",
    "    \"\"\"Negative log-likelihood for the Laplace distribution.\"\"\"\n",
    "    mu, delta = params\n",
    "    return -np.sum(laplace.logpdf(data, loc=mu, scale=delta))\n",
    "\n",
    "def fit_laplace(data):\n",
    "    \"\"\"Fit a Laplace distribution to the data.\"\"\"\n",
    "    initial_guess = [1, 1]\n",
    "    return fmin(laplace_likelihood, initial_guess, args=(data,), disp=False)\n",
    "\n",
    "def main():\n",
    "    # Generate bootstrap resamples\n",
    "    bootstrap_samples = bootstrap(M)\n",
    "\n",
    "    # Fit a Laplace distribution to each resample\n",
    "    parameters = np.array([fit_laplace(sample) for sample in bootstrap_samples])\n",
    "\n",
    "    # Separate the parameters into two arrays for plotting\n",
    "    mu_values, delta_values = parameters.T\n",
    "\n",
    "    # Combine the mu_values and delta_values into a 2D array\n",
    "    data = np.vstack([mu_values, delta_values]).T\n",
    "\n",
    "    # Create the corner plot\n",
    "    figure = corner.corner(data, quantiles=(0.16, 0.5, 0.84), levels=(0.68, 0.95), \n",
    "                           labels=['bootstrap μ', 'bootstrap Δ'],\n",
    "                           titles=['μ_distribution', 'Δ_distribution'],\n",
    "                           show_titles=True)\n",
    "\n",
    "    # Display the plot\n",
    "    plt.show()\n",
    "main()"
   ]
  },
  {
   "cell_type": "markdown",
   "metadata": {},
   "source": [
    "SRT: This is terrific!"
   ]
  },
  {
   "cell_type": "code",
   "execution_count": 185,
   "metadata": {},
   "outputs": [
    {
     "name": "stdout",
     "output_type": "stream",
     "text": [
      "[[0.10922764 0.00498758]\n",
      " [0.00498758 0.08822722]]\n",
      "\n",
      "std of bootstrap μ: 0.07791900156467535\n",
      "std of bootstrap Δ: 0.12911460956023418\n"
     ]
    }
   ],
   "source": [
    "import numdifftools as nd\n",
    "H = nd.Hessian(f_laplace)([test_laplace[0], test_laplace[1]])\n",
    "# invert the matrix and take square root\n",
    "sigma_laplace = np.linalg.inv(H)**0.5\n",
    "\n",
    "print(sigma_laplace)\n",
    "print('\\nstd of bootstrap μ: '+str(np.std(delta_values))+'\\nstd of bootstrap Δ: '+str(np.std(mu_values)))"
   ]
  },
  {
   "cell_type": "markdown",
   "metadata": {},
   "source": [
    "SRT: Correct Hessian calculation."
   ]
  },
  {
   "cell_type": "code",
   "execution_count": null,
   "metadata": {},
   "outputs": [],
   "source": []
  }
 ],
 "metadata": {
  "anaconda-cloud": {},
  "kernelspec": {
   "display_name": "Python 3",
   "language": "python",
   "name": "python3"
  },
  "language_info": {
   "codemirror_mode": {
    "name": "ipython",
    "version": 3
   },
   "file_extension": ".py",
   "mimetype": "text/x-python",
   "name": "python",
   "nbconvert_exporter": "python",
   "pygments_lexer": "ipython3",
   "version": "3.11.5"
  }
 },
 "nbformat": 4,
 "nbformat_minor": 2
}
