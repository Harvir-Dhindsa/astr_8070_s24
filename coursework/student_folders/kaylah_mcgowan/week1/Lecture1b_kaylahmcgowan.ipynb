{
 "cells": [
  {
   "cell_type": "code",
   "execution_count": 5,
   "id": "dd7e77fb-c8b5-4ab5-9c2d-f65a33d87e91",
   "metadata": {},
   "outputs": [
    {
     "name": "stdout",
     "output_type": "stream",
     "text": [
      "python version  3.10.13  core programming language\n",
      "numpy version  1.26.3  efficient array operations\n",
      "scipy version  1.11.4  scientific computing tools\n",
      "matplotlib version  3.8.0  plotting and visualization\n",
      "sklearn version  1.3.0  machine learning\n",
      "astroML version  1.0.2  astronomical machine learning toolkit\n"
     ]
    }
   ],
   "source": [
    "from platform import python_version \n",
    "import numpy\n",
    "import scipy\n",
    "import matplotlib\n",
    "import sklearn\n",
    "import astroML\n",
    "print(\"python version \",python_version(), \" core programming language\")\n",
    "print(\"numpy version \",numpy.__version__, \" efficient array operations\")\n",
    "print(\"scipy version \",scipy.__version__, \" scientific computing tools\")\n",
    "print(\"matplotlib version \",matplotlib.__version__, \" plotting and visualization\")\n",
    "print(\"sklearn version \",sklearn.__version__, \" machine learning\")\n",
    "print(\"astroML version \",astroML.__version__, \" astronomical machine learning toolkit\")"
   ]
  },
  {
   "cell_type": "code",
   "execution_count": null,
   "id": "a438bbb3-6d7f-444b-b1bc-6d4dac3754a6",
   "metadata": {},
   "outputs": [],
   "source": []
  }
 ],
 "metadata": {
  "kernelspec": {
   "display_name": "Python [conda env:astr8070] *",
   "language": "python",
   "name": "conda-env-astr8070-py"
  },
  "language_info": {
   "codemirror_mode": {
    "name": "ipython",
    "version": 3
   },
   "file_extension": ".py",
   "mimetype": "text/x-python",
   "name": "python",
   "nbconvert_exporter": "python",
   "pygments_lexer": "ipython3",
   "version": "3.10.13"
  }
 },
 "nbformat": 4,
 "nbformat_minor": 5
}
